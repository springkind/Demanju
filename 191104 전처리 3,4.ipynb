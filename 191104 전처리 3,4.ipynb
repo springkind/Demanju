{
 "cells": [
  {
   "cell_type": "code",
   "execution_count": 1,
   "metadata": {},
   "outputs": [],
   "source": [
    "import pandas as pd\n",
    "import numpy as np\n",
    "from matplotlib import pyplot as plt\n",
    "import seaborn as sns\n",
    "\n",
    "%matplotlib inline"
   ]
  },
  {
   "cell_type": "code",
   "execution_count": 2,
   "metadata": {},
   "outputs": [],
   "source": [
    "alldf = pd.read_csv('./data/전체_입구명_출구명_제거.csv')"
   ]
  },
  {
   "cell_type": "code",
   "execution_count": 3,
   "metadata": {},
   "outputs": [
    {
     "data": {
      "text/plain": [
       "수동출차                   6130\n",
       "중복입차                   1310\n",
       "주차중                     376\n",
       "2017-10-09 19:07:30       3\n",
       "2019-06-15 18:32:38       3\n",
       "                       ... \n",
       "2017-05-27 13:10:40       1\n",
       "2017-03-02 19:13:21       1\n",
       "2017-08-09 11:54:01       1\n",
       "2017-06-07 18:02:38       1\n",
       "2019-04-27 20:07:11       1\n",
       "Name: 진출시각, Length: 1154341, dtype: int64"
      ]
     },
     "execution_count": 3,
     "metadata": {},
     "output_type": "execute_result"
    }
   ],
   "source": [
    "alldf['진출시각'].value_counts()"
   ]
  },
  {
   "cell_type": "code",
   "execution_count": 4,
   "metadata": {},
   "outputs": [
    {
     "data": {
      "text/html": [
       "<div>\n",
       "<style scoped>\n",
       "    .dataframe tbody tr th:only-of-type {\n",
       "        vertical-align: middle;\n",
       "    }\n",
       "\n",
       "    .dataframe tbody tr th {\n",
       "        vertical-align: top;\n",
       "    }\n",
       "\n",
       "    .dataframe thead th {\n",
       "        text-align: right;\n",
       "    }\n",
       "</style>\n",
       "<table border=\"1\" class=\"dataframe\">\n",
       "  <thead>\n",
       "    <tr style=\"text-align: right;\">\n",
       "      <th></th>\n",
       "      <th>고객구분</th>\n",
       "      <th>연도</th>\n",
       "      <th>주차시간(분)</th>\n",
       "      <th>진입시각</th>\n",
       "      <th>진출시각</th>\n",
       "      <th>차종</th>\n",
       "    </tr>\n",
       "  </thead>\n",
       "  <tbody>\n",
       "    <tr>\n",
       "      <td>0</td>\n",
       "      <td>정기권</td>\n",
       "      <td>2017</td>\n",
       "      <td>9682</td>\n",
       "      <td>2017-01-01 00:00:47</td>\n",
       "      <td>2017-01-07 17:21:59</td>\n",
       "      <td>소형</td>\n",
       "    </tr>\n",
       "    <tr>\n",
       "      <td>1</td>\n",
       "      <td>정기권</td>\n",
       "      <td>2017</td>\n",
       "      <td>1057</td>\n",
       "      <td>2017-01-01 00:02:54</td>\n",
       "      <td>2017-01-01 17:39:08</td>\n",
       "      <td>소형</td>\n",
       "    </tr>\n",
       "    <tr>\n",
       "      <td>2</td>\n",
       "      <td>일반</td>\n",
       "      <td>2017</td>\n",
       "      <td>1245</td>\n",
       "      <td>2017-01-01 00:05:14</td>\n",
       "      <td>2017-01-01 20:49:35</td>\n",
       "      <td>소형</td>\n",
       "    </tr>\n",
       "    <tr>\n",
       "      <td>3</td>\n",
       "      <td>정기권</td>\n",
       "      <td>2017</td>\n",
       "      <td>864</td>\n",
       "      <td>2017-01-01 00:09:14</td>\n",
       "      <td>2017-01-01 14:32:37</td>\n",
       "      <td>소형</td>\n",
       "    </tr>\n",
       "    <tr>\n",
       "      <td>4</td>\n",
       "      <td>일반</td>\n",
       "      <td>2017</td>\n",
       "      <td>494</td>\n",
       "      <td>2017-01-01 00:25:43</td>\n",
       "      <td>2017-01-01 08:41:00</td>\n",
       "      <td>소형</td>\n",
       "    </tr>\n",
       "    <tr>\n",
       "      <td>...</td>\n",
       "      <td>...</td>\n",
       "      <td>...</td>\n",
       "      <td>...</td>\n",
       "      <td>...</td>\n",
       "      <td>...</td>\n",
       "      <td>...</td>\n",
       "    </tr>\n",
       "    <tr>\n",
       "      <td>1180047</td>\n",
       "      <td>일반</td>\n",
       "      <td>2019</td>\n",
       "      <td>3</td>\n",
       "      <td>2019-10-24 10:15:13</td>\n",
       "      <td>2019-10-24 10:17:55</td>\n",
       "      <td>소형</td>\n",
       "    </tr>\n",
       "    <tr>\n",
       "      <td>1180062</td>\n",
       "      <td>일반</td>\n",
       "      <td>2019</td>\n",
       "      <td>11</td>\n",
       "      <td>2019-10-24 10:19:42</td>\n",
       "      <td>2019-10-24 10:30:40</td>\n",
       "      <td>소형</td>\n",
       "    </tr>\n",
       "    <tr>\n",
       "      <td>1180081</td>\n",
       "      <td>일반</td>\n",
       "      <td>2019</td>\n",
       "      <td>10</td>\n",
       "      <td>2019-10-24 10:25:19</td>\n",
       "      <td>2019-10-24 10:35:09</td>\n",
       "      <td>소형</td>\n",
       "    </tr>\n",
       "    <tr>\n",
       "      <td>1180089</td>\n",
       "      <td>일반</td>\n",
       "      <td>2019</td>\n",
       "      <td>5</td>\n",
       "      <td>2019-10-24 10:27:33</td>\n",
       "      <td>2019-10-24 10:32:30</td>\n",
       "      <td>소형</td>\n",
       "    </tr>\n",
       "    <tr>\n",
       "      <td>1180090</td>\n",
       "      <td>일반</td>\n",
       "      <td>2019</td>\n",
       "      <td>1</td>\n",
       "      <td>2019-10-24 10:28:22</td>\n",
       "      <td>2019-10-24 10:29:11</td>\n",
       "      <td>소형</td>\n",
       "    </tr>\n",
       "  </tbody>\n",
       "</table>\n",
       "<p>1172301 rows × 6 columns</p>\n",
       "</div>"
      ],
      "text/plain": [
       "        고객구분    연도  주차시간(분)                 진입시각                 진출시각  차종\n",
       "0        정기권  2017     9682  2017-01-01 00:00:47  2017-01-07 17:21:59  소형\n",
       "1        정기권  2017     1057  2017-01-01 00:02:54  2017-01-01 17:39:08  소형\n",
       "2         일반  2017     1245  2017-01-01 00:05:14  2017-01-01 20:49:35  소형\n",
       "3        정기권  2017      864  2017-01-01 00:09:14  2017-01-01 14:32:37  소형\n",
       "4         일반  2017      494  2017-01-01 00:25:43  2017-01-01 08:41:00  소형\n",
       "...      ...   ...      ...                  ...                  ...  ..\n",
       "1180047   일반  2019        3  2019-10-24 10:15:13  2019-10-24 10:17:55  소형\n",
       "1180062   일반  2019       11  2019-10-24 10:19:42  2019-10-24 10:30:40  소형\n",
       "1180081   일반  2019       10  2019-10-24 10:25:19  2019-10-24 10:35:09  소형\n",
       "1180089   일반  2019        5  2019-10-24 10:27:33  2019-10-24 10:32:30  소형\n",
       "1180090   일반  2019        1  2019-10-24 10:28:22  2019-10-24 10:29:11  소형\n",
       "\n",
       "[1172301 rows x 6 columns]"
      ]
     },
     "execution_count": 4,
     "metadata": {},
     "output_type": "execute_result"
    }
   ],
   "source": [
    "alldf = alldf[~alldf['진출시각'].isin(['수동출차', '중복입차', '주차중'])]\n",
    "alldf"
   ]
  },
  {
   "cell_type": "markdown",
   "metadata": {},
   "source": [
    "# distplot"
   ]
  },
  {
   "cell_type": "code",
   "execution_count": 5,
   "metadata": {},
   "outputs": [
    {
     "data": {
      "text/plain": [
       "<matplotlib.axes._subplots.AxesSubplot at 0x7f853eaa90f0>"
      ]
     },
     "execution_count": 5,
     "metadata": {},
     "output_type": "execute_result"
    },
    {
     "data": {
      "image/png": "[encoded data removed]",
      "text/plain": [
       "<Figure size 432x288 with 1 Axes>"
      ]
     },
     "metadata": {
      "needs_background": "light"
     },
     "output_type": "display_data"
    }
   ],
   "source": [
    "sns.distplot(alldf['주차시간(분)'])"
   ]
  },
  {
   "cell_type": "markdown",
   "metadata": {},
   "source": [
    "## 주차시간 < 780분"
   ]
  },
  {
   "cell_type": "code",
   "execution_count": 6,
   "metadata": {},
   "outputs": [],
   "source": [
    "alldf_780 = alldf[alldf['주차시간(분)'] < 780]"
   ]
  },
  {
   "cell_type": "code",
   "execution_count": 7,
   "metadata": {
    "scrolled": true
   },
   "outputs": [
    {
     "data": {
      "text/plain": [
       "<matplotlib.axes._subplots.AxesSubplot at 0x7f853e9989b0>"
      ]
     },
     "execution_count": 7,
     "metadata": {},
     "output_type": "execute_result"
    },
    {
     "data": {
      "image/png": "[encoded data removed]",
      "text/plain": [
       "<Figure size 432x288 with 1 Axes>"
      ]
     },
     "metadata": {
      "needs_background": "light"
     },
     "output_type": "display_data"
    }
   ],
   "source": [
    "sns.distplot(alldf_780['주차시간(분)'])"
   ]
  },
  {
   "cell_type": "markdown",
   "metadata": {},
   "source": [
    "## 주차시간 < 200분"
   ]
  },
  {
   "cell_type": "code",
   "execution_count": 8,
   "metadata": {},
   "outputs": [],
   "source": [
    "alldf_200 = alldf[alldf['주차시간(분)'] < 200]"
   ]
  },
  {
   "cell_type": "code",
   "execution_count": 9,
   "metadata": {
    "scrolled": false
   },
   "outputs": [
    {
     "data": {
      "text/plain": [
       "<matplotlib.axes._subplots.AxesSubplot at 0x7f853e952cc0>"
      ]
     },
     "execution_count": 9,
     "metadata": {},
     "output_type": "execute_result"
    },
    {
     "data": {
      "image/png": "[encoded data removed]",
      "text/plain": [
       "<Figure size 432x288 with 1 Axes>"
      ]
     },
     "metadata": {
      "needs_background": "light"
     },
     "output_type": "display_data"
    }
   ],
   "source": [
    "sns.distplot(alldf_200['주차시간(분)'])"
   ]
  },
  {
   "cell_type": "markdown",
   "metadata": {},
   "source": [
    "## 80분 < 주차시간 < 200분"
   ]
  },
  {
   "cell_type": "code",
   "execution_count": 17,
   "metadata": {},
   "outputs": [],
   "source": [
    "alldf_80_200 = alldf[(alldf['주차시간(분)'] < 200) & (alldf['주차시간(분)'] > 80)]"
   ]
  },
  {
   "cell_type": "code",
   "execution_count": 18,
   "metadata": {
    "scrolled": false
   },
   "outputs": [
    {
     "data": {
      "text/plain": [
       "<matplotlib.axes._subplots.AxesSubplot at 0x7f853c7bdbe0>"
      ]
     },
     "execution_count": 18,
     "metadata": {},
     "output_type": "execute_result"
    },
    {
     "data": {
      "image/png": "[encoded data removed]",
      "text/plain": [
       "<Figure size 432x288 with 1 Axes>"
      ]
     },
     "metadata": {
      "needs_background": "light"
     },
     "output_type": "display_data"
    }
   ],
   "source": [
    "sns.distplot(alldf_80_200['주차시간(분)'])"
   ]
  },
  {
   "cell_type": "code",
   "execution_count": null,
   "metadata": {},
   "outputs": [],
   "source": []
  },
  {
   "cell_type": "markdown",
   "metadata": {},
   "source": [
    "## 주차시간 < 60분"
   ]
  },
  {
   "cell_type": "code",
   "execution_count": 10,
   "metadata": {},
   "outputs": [],
   "source": [
    "alldf_60 = alldf[alldf['주차시간(분)'] < 60]"
   ]
  },
  {
   "cell_type": "code",
   "execution_count": 14,
   "metadata": {
    "scrolled": true
   },
   "outputs": [
    {
     "data": {
      "text/plain": [
       "<matplotlib.axes._subplots.AxesSubplot at 0x7f853c8d9080>"
      ]
     },
     "execution_count": 14,
     "metadata": {},
     "output_type": "execute_result"
    },
    {
     "data": {
      "image/png": "[encoded data removed]",
      "text/plain": [
       "<Figure size 1440x720 with 1 Axes>"
      ]
     },
     "metadata": {
      "needs_background": "light"
     },
     "output_type": "display_data"
    }
   ],
   "source": [
    "plt.figure(figsize=(20,10))\n",
    "sns.distplot(alldf_60['주차시간(분)'])"
   ]
  },
  {
   "cell_type": "markdown",
   "metadata": {},
   "source": [
    "* 첫번째 봉우리: 15분 이하 -> 주차장 자리를 찾지 못하고 나간 사람들\n",
    "* 두번째 봉우리: 60분 이하 -> 비교적 일찍 나간 사람들\n",
    "* 60분 이상: 일반유저"
   ]
  },
  {
   "cell_type": "code",
   "execution_count": 19,
   "metadata": {},
   "outputs": [
    {
     "data": {
      "text/html": [
       "<div>\n",
       "<style scoped>\n",
       "    .dataframe tbody tr th:only-of-type {\n",
       "        vertical-align: middle;\n",
       "    }\n",
       "\n",
       "    .dataframe tbody tr th {\n",
       "        vertical-align: top;\n",
       "    }\n",
       "\n",
       "    .dataframe thead th {\n",
       "        text-align: right;\n",
       "    }\n",
       "</style>\n",
       "<table border=\"1\" class=\"dataframe\">\n",
       "  <thead>\n",
       "    <tr style=\"text-align: right;\">\n",
       "      <th></th>\n",
       "      <th>연도</th>\n",
       "      <th>주차시간(분)</th>\n",
       "    </tr>\n",
       "  </thead>\n",
       "  <tbody>\n",
       "    <tr>\n",
       "      <td>count</td>\n",
       "      <td>1.172301e+06</td>\n",
       "      <td>1.172301e+06</td>\n",
       "    </tr>\n",
       "    <tr>\n",
       "      <td>mean</td>\n",
       "      <td>2.017888e+03</td>\n",
       "      <td>2.025276e+02</td>\n",
       "    </tr>\n",
       "    <tr>\n",
       "      <td>std</td>\n",
       "      <td>9.790314e-01</td>\n",
       "      <td>8.126107e+02</td>\n",
       "    </tr>\n",
       "    <tr>\n",
       "      <td>min</td>\n",
       "      <td>2.017000e+03</td>\n",
       "      <td>-3.000000e+00</td>\n",
       "    </tr>\n",
       "    <tr>\n",
       "      <td>25%</td>\n",
       "      <td>2.017000e+03</td>\n",
       "      <td>5.200000e+01</td>\n",
       "    </tr>\n",
       "    <tr>\n",
       "      <td>50%</td>\n",
       "      <td>2.017000e+03</td>\n",
       "      <td>1.240000e+02</td>\n",
       "    </tr>\n",
       "    <tr>\n",
       "      <td>75%</td>\n",
       "      <td>2.019000e+03</td>\n",
       "      <td>2.090000e+02</td>\n",
       "    </tr>\n",
       "    <tr>\n",
       "      <td>max</td>\n",
       "      <td>2.019000e+03</td>\n",
       "      <td>2.144450e+05</td>\n",
       "    </tr>\n",
       "  </tbody>\n",
       "</table>\n",
       "</div>"
      ],
      "text/plain": [
       "                 연도       주차시간(분)\n",
       "count  1.172301e+06  1.172301e+06\n",
       "mean   2.017888e+03  2.025276e+02\n",
       "std    9.790314e-01  8.126107e+02\n",
       "min    2.017000e+03 -3.000000e+00\n",
       "25%    2.017000e+03  5.200000e+01\n",
       "50%    2.017000e+03  1.240000e+02\n",
       "75%    2.019000e+03  2.090000e+02\n",
       "max    2.019000e+03  2.144450e+05"
      ]
     },
     "execution_count": 19,
     "metadata": {},
     "output_type": "execute_result"
    }
   ],
   "source": [
    "alldf.describe()"
   ]
  },
  {
   "cell_type": "markdown",
   "metadata": {},
   "source": [
    "## 주차시간 < 15분 인 차량 수"
   ]
  },
  {
   "cell_type": "code",
   "execution_count": 26,
   "metadata": {},
   "outputs": [],
   "source": [
    "alldf_15 = alldf[alldf['주차시간(분)'] <= 15]"
   ]
  },
  {
   "cell_type": "code",
   "execution_count": 27,
   "metadata": {},
   "outputs": [
    {
     "data": {
      "text/plain": [
       "고객구분       121593\n",
       "연도         121593\n",
       "주차시간(분)    121593\n",
       "진입시각       121593\n",
       "진출시각       121593\n",
       "차종         121593\n",
       "dtype: int64"
      ]
     },
     "execution_count": 27,
     "metadata": {},
     "output_type": "execute_result"
    }
   ],
   "source": [
    "alldf_15.count(0)"
   ]
  },
  {
   "cell_type": "markdown",
   "metadata": {},
   "source": [
    "## 주차시간 >= 780분 인 차량수"
   ]
  },
  {
   "cell_type": "code",
   "execution_count": 24,
   "metadata": {},
   "outputs": [],
   "source": [
    "alldf_780 = alldf[alldf['주차시간(분)'] >=780]"
   ]
  },
  {
   "cell_type": "code",
   "execution_count": 25,
   "metadata": {},
   "outputs": [
    {
     "data": {
      "text/plain": [
       "고객구분       27074\n",
       "연도         27074\n",
       "주차시간(분)    27074\n",
       "진입시각       27074\n",
       "진출시각       27074\n",
       "차종         27074\n",
       "dtype: int64"
      ]
     },
     "execution_count": 25,
     "metadata": {},
     "output_type": "execute_result"
    }
   ],
   "source": [
    "alldf_780.count()"
   ]
  },
  {
   "cell_type": "code",
   "execution_count": 23,
   "metadata": {},
   "outputs": [
    {
     "data": {
      "text/plain": [
       "고객구분       1172301\n",
       "연도         1172301\n",
       "주차시간(분)    1172301\n",
       "진입시각       1172301\n",
       "진출시각       1172301\n",
       "차종         1172301\n",
       "dtype: int64"
      ]
     },
     "execution_count": 23,
     "metadata": {},
     "output_type": "execute_result"
    }
   ],
   "source": [
    "alldf.count()"
   ]
  },
  {
   "cell_type": "markdown",
   "metadata": {},
   "source": [
    "## 15 < 주차시간 < 780"
   ]
  },
  {
   "cell_type": "code",
   "execution_count": 28,
   "metadata": {},
   "outputs": [],
   "source": [
    "alldf_15_780 = alldf[(alldf['주차시간(분)'] > 15) & (alldf['주차시간(분)'] < 780)]"
   ]
  },
  {
   "cell_type": "code",
   "execution_count": 29,
   "metadata": {},
   "outputs": [
    {
     "data": {
      "text/html": [
       "<div>\n",
       "<style scoped>\n",
       "    .dataframe tbody tr th:only-of-type {\n",
       "        vertical-align: middle;\n",
       "    }\n",
       "\n",
       "    .dataframe tbody tr th {\n",
       "        vertical-align: top;\n",
       "    }\n",
       "\n",
       "    .dataframe thead th {\n",
       "        text-align: right;\n",
       "    }\n",
       "</style>\n",
       "<table border=\"1\" class=\"dataframe\">\n",
       "  <thead>\n",
       "    <tr style=\"text-align: right;\">\n",
       "      <th></th>\n",
       "      <th>고객구분</th>\n",
       "      <th>연도</th>\n",
       "      <th>주차시간(분)</th>\n",
       "      <th>진입시각</th>\n",
       "      <th>진출시각</th>\n",
       "      <th>차종</th>\n",
       "    </tr>\n",
       "  </thead>\n",
       "  <tbody>\n",
       "    <tr>\n",
       "      <td>4</td>\n",
       "      <td>일반</td>\n",
       "      <td>2017</td>\n",
       "      <td>494</td>\n",
       "      <td>2017-01-01 00:25:43</td>\n",
       "      <td>2017-01-01 08:41:00</td>\n",
       "      <td>소형</td>\n",
       "    </tr>\n",
       "    <tr>\n",
       "      <td>6</td>\n",
       "      <td>일반</td>\n",
       "      <td>2017</td>\n",
       "      <td>629</td>\n",
       "      <td>2017-01-01 00:43:03</td>\n",
       "      <td>2017-01-01 11:11:41</td>\n",
       "      <td>소형</td>\n",
       "    </tr>\n",
       "    <tr>\n",
       "      <td>7</td>\n",
       "      <td>정기권</td>\n",
       "      <td>2017</td>\n",
       "      <td>295</td>\n",
       "      <td>2017-01-01 00:46:22</td>\n",
       "      <td>2017-01-01 05:41:13</td>\n",
       "      <td>소형</td>\n",
       "    </tr>\n",
       "    <tr>\n",
       "      <td>9</td>\n",
       "      <td>일반</td>\n",
       "      <td>2017</td>\n",
       "      <td>470</td>\n",
       "      <td>2017-01-01 00:50:25</td>\n",
       "      <td>2017-01-01 08:41:05</td>\n",
       "      <td>소형</td>\n",
       "    </tr>\n",
       "    <tr>\n",
       "      <td>11</td>\n",
       "      <td>일반</td>\n",
       "      <td>2017</td>\n",
       "      <td>274</td>\n",
       "      <td>2017-01-01 01:02:22</td>\n",
       "      <td>2017-01-01 05:36:07</td>\n",
       "      <td>소형</td>\n",
       "    </tr>\n",
       "  </tbody>\n",
       "</table>\n",
       "</div>"
      ],
      "text/plain": [
       "   고객구분    연도  주차시간(분)                 진입시각                 진출시각  차종\n",
       "4    일반  2017      494  2017-01-01 00:25:43  2017-01-01 08:41:00  소형\n",
       "6    일반  2017      629  2017-01-01 00:43:03  2017-01-01 11:11:41  소형\n",
       "7   정기권  2017      295  2017-01-01 00:46:22  2017-01-01 05:41:13  소형\n",
       "9    일반  2017      470  2017-01-01 00:50:25  2017-01-01 08:41:05  소형\n",
       "11   일반  2017      274  2017-01-01 01:02:22  2017-01-01 05:36:07  소형"
      ]
     },
     "execution_count": 29,
     "metadata": {},
     "output_type": "execute_result"
    }
   ],
   "source": [
    "alldf_15_780.head()"
   ]
  },
  {
   "cell_type": "code",
   "execution_count": 31,
   "metadata": {},
   "outputs": [],
   "source": [
    "alldf_15_780.to_csv('./data/전체_주차시간기준_전처리.csv',index=False)"
   ]
  },
  {
   "cell_type": "code",
   "execution_count": null,
   "metadata": {},
   "outputs": [],
   "source": []
  },
  {
   "cell_type": "code",
   "execution_count": null,
   "metadata": {},
   "outputs": [],
   "source": []
  },
  {
   "cell_type": "code",
   "execution_count": null,
   "metadata": {},
   "outputs": [],
   "source": []
  }
 ],
 "metadata": {
  "kernelspec": {
   "display_name": "Python 3",
   "language": "python",
   "name": "python3"
  },
  "language_info": {
   "codemirror_mode": {
    "name": "ipython",
    "version": 3
   },
   "file_extension": ".py",
   "mimetype": "text/x-python",
   "name": "python",
   "nbconvert_exporter": "python",
   "pygments_lexer": "ipython3",
   "version": "3.6.8"
  }
 },
 "nbformat": 4,
 "nbformat_minor": 2
}
