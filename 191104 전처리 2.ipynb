{
 "cells": [
  {
   "cell_type": "code",
   "execution_count": 1,
   "metadata": {},
   "outputs": [],
   "source": [
    "import pandas as pd\n",
    "import numpy as np\n",
    "from matplotlib import pyplot as plt\n",
    "import seaborn as sns\n",
    "\n",
    "%matplotlib inline"
   ]
  },
  {
   "cell_type": "markdown",
   "metadata": {},
   "source": [
    "# 데이터 불러오기"
   ]
  },
  {
   "cell_type": "code",
   "execution_count": 2,
   "metadata": {},
   "outputs": [],
   "source": [
    "all17 = pd.read_csv('./data/all17.csv')"
   ]
  },
  {
   "cell_type": "code",
   "execution_count": 8,
   "metadata": {},
   "outputs": [],
   "source": [
    "all19 = pd.read_csv('./data/2019_어린이대공원_데이터_전체.csv')"
   ]
  },
  {
   "cell_type": "code",
   "execution_count": 9,
   "metadata": {},
   "outputs": [],
   "source": [
    "xls = pd.ExcelFile('./data/입출차내역_개인정보등 삭제(2017~2018.2).xlsx')"
   ]
  },
  {
   "cell_type": "code",
   "execution_count": 10,
   "metadata": {},
   "outputs": [],
   "source": [
    "all18 = pd.read_excel(xls, '2018년')"
   ]
  },
  {
   "cell_type": "code",
   "execution_count": 12,
   "metadata": {},
   "outputs": [],
   "source": [
    "all18.to_csv('./data/2018.csv', index=False)"
   ]
  },
  {
   "cell_type": "code",
   "execution_count": 11,
   "metadata": {},
   "outputs": [
    {
     "data": {
      "text/html": [
       "<div>\n",
       "<style scoped>\n",
       "    .dataframe tbody tr th:only-of-type {\n",
       "        vertical-align: middle;\n",
       "    }\n",
       "\n",
       "    .dataframe tbody tr th {\n",
       "        vertical-align: top;\n",
       "    }\n",
       "\n",
       "    .dataframe thead th {\n",
       "        text-align: right;\n",
       "    }\n",
       "</style>\n",
       "<table border=\"1\" class=\"dataframe\">\n",
       "  <thead>\n",
       "    <tr style=\"text-align: right;\">\n",
       "      <th></th>\n",
       "      <th>주차장명</th>\n",
       "      <th>진입시각</th>\n",
       "      <th>진출시각</th>\n",
       "      <th>출구명</th>\n",
       "      <th>고객구분</th>\n",
       "      <th>차종</th>\n",
       "      <th>주차시간(분)</th>\n",
       "    </tr>\n",
       "  </thead>\n",
       "  <tbody>\n",
       "    <tr>\n",
       "      <td>0</td>\n",
       "      <td>서울어린이대공원</td>\n",
       "      <td>2017-12-31 23:32:37</td>\n",
       "      <td>2018-01-01 00:01:40</td>\n",
       "      <td>정문출구1</td>\n",
       "      <td>일반</td>\n",
       "      <td>경차</td>\n",
       "      <td>30</td>\n",
       "    </tr>\n",
       "    <tr>\n",
       "      <td>1</td>\n",
       "      <td>서울어린이대공원</td>\n",
       "      <td>2017-12-31 23:33:04</td>\n",
       "      <td>2018-01-01 00:13:05</td>\n",
       "      <td>구의문출구</td>\n",
       "      <td>일반</td>\n",
       "      <td>소형</td>\n",
       "      <td>41</td>\n",
       "    </tr>\n",
       "    <tr>\n",
       "      <td>2</td>\n",
       "      <td>서울어린이대공원</td>\n",
       "      <td>2017-12-31 22:40:51</td>\n",
       "      <td>2018-01-01 00:13:12</td>\n",
       "      <td>구의문출구</td>\n",
       "      <td>일반</td>\n",
       "      <td>소형</td>\n",
       "      <td>93</td>\n",
       "    </tr>\n",
       "    <tr>\n",
       "      <td>3</td>\n",
       "      <td>서울어린이대공원</td>\n",
       "      <td>2017-12-31 23:59:01</td>\n",
       "      <td>2018-01-01 00:23:56</td>\n",
       "      <td>구의문출구</td>\n",
       "      <td>일반</td>\n",
       "      <td>소형</td>\n",
       "      <td>25</td>\n",
       "    </tr>\n",
       "    <tr>\n",
       "      <td>4</td>\n",
       "      <td>서울어린이대공원</td>\n",
       "      <td>2017-12-31 16:10:55</td>\n",
       "      <td>2018-01-01 00:31:19</td>\n",
       "      <td>후문출구</td>\n",
       "      <td>일반</td>\n",
       "      <td>소형</td>\n",
       "      <td>501</td>\n",
       "    </tr>\n",
       "  </tbody>\n",
       "</table>\n",
       "</div>"
      ],
      "text/plain": [
       "       주차장명                 진입시각                 진출시각    출구명 고객구분  차종  주차시간(분)\n",
       "0  서울어린이대공원  2017-12-31 23:32:37  2018-01-01 00:01:40  정문출구1   일반  경차       30\n",
       "1  서울어린이대공원  2017-12-31 23:33:04  2018-01-01 00:13:05  구의문출구   일반  소형       41\n",
       "2  서울어린이대공원  2017-12-31 22:40:51  2018-01-01 00:13:12  구의문출구   일반  소형       93\n",
       "3  서울어린이대공원  2017-12-31 23:59:01  2018-01-01 00:23:56  구의문출구   일반  소형       25\n",
       "4  서울어린이대공원  2017-12-31 16:10:55  2018-01-01 00:31:19   후문출구   일반  소형      501"
      ]
     },
     "execution_count": 11,
     "metadata": {},
     "output_type": "execute_result"
    }
   ],
   "source": [
    "all18.head()"
   ]
  },
  {
   "cell_type": "markdown",
   "metadata": {},
   "source": [
    "# 연도 칼럼 만들기"
   ]
  },
  {
   "cell_type": "code",
   "execution_count": 14,
   "metadata": {},
   "outputs": [],
   "source": [
    "all17 = all17.drop(columns=['Unnamed: 0'])"
   ]
  },
  {
   "cell_type": "code",
   "execution_count": 15,
   "metadata": {},
   "outputs": [
    {
     "data": {
      "text/html": [
       "<div>\n",
       "<style scoped>\n",
       "    .dataframe tbody tr th:only-of-type {\n",
       "        vertical-align: middle;\n",
       "    }\n",
       "\n",
       "    .dataframe tbody tr th {\n",
       "        vertical-align: top;\n",
       "    }\n",
       "\n",
       "    .dataframe thead th {\n",
       "        text-align: right;\n",
       "    }\n",
       "</style>\n",
       "<table border=\"1\" class=\"dataframe\">\n",
       "  <thead>\n",
       "    <tr style=\"text-align: right;\">\n",
       "      <th></th>\n",
       "      <th>주차장명</th>\n",
       "      <th>진입시각</th>\n",
       "      <th>진출시각</th>\n",
       "      <th>출구명</th>\n",
       "      <th>고객구분</th>\n",
       "      <th>차종</th>\n",
       "      <th>주차시간(분)</th>\n",
       "    </tr>\n",
       "  </thead>\n",
       "  <tbody>\n",
       "    <tr>\n",
       "      <td>0</td>\n",
       "      <td>서울어린이대공원</td>\n",
       "      <td>2017-01-01 00:00:47</td>\n",
       "      <td>2017-01-07 17:21:59</td>\n",
       "      <td>후문출구</td>\n",
       "      <td>정기권</td>\n",
       "      <td>소형</td>\n",
       "      <td>9682</td>\n",
       "    </tr>\n",
       "    <tr>\n",
       "      <td>1</td>\n",
       "      <td>서울어린이대공원</td>\n",
       "      <td>2017-01-01 00:02:54</td>\n",
       "      <td>2017-01-01 17:39:08</td>\n",
       "      <td>구의문출구</td>\n",
       "      <td>정기권</td>\n",
       "      <td>소형</td>\n",
       "      <td>1057</td>\n",
       "    </tr>\n",
       "    <tr>\n",
       "      <td>2</td>\n",
       "      <td>서울어린이대공원</td>\n",
       "      <td>2017-01-01 00:05:14</td>\n",
       "      <td>2017-01-01 20:49:35</td>\n",
       "      <td>CMB(정문)</td>\n",
       "      <td>일반</td>\n",
       "      <td>소형</td>\n",
       "      <td>1245</td>\n",
       "    </tr>\n",
       "    <tr>\n",
       "      <td>3</td>\n",
       "      <td>서울어린이대공원</td>\n",
       "      <td>2017-01-01 00:09:14</td>\n",
       "      <td>2017-01-01 14:32:37</td>\n",
       "      <td>구의문출구</td>\n",
       "      <td>정기권</td>\n",
       "      <td>소형</td>\n",
       "      <td>864</td>\n",
       "    </tr>\n",
       "    <tr>\n",
       "      <td>4</td>\n",
       "      <td>서울어린이대공원</td>\n",
       "      <td>2017-01-01 00:25:43</td>\n",
       "      <td>2017-01-01 08:41:00</td>\n",
       "      <td>CMB(후문)</td>\n",
       "      <td>일반</td>\n",
       "      <td>소형</td>\n",
       "      <td>494</td>\n",
       "    </tr>\n",
       "  </tbody>\n",
       "</table>\n",
       "</div>"
      ],
      "text/plain": [
       "       주차장명                 진입시각                 진출시각      출구명 고객구분  차종  \\\n",
       "0  서울어린이대공원  2017-01-01 00:00:47  2017-01-07 17:21:59     후문출구  정기권  소형   \n",
       "1  서울어린이대공원  2017-01-01 00:02:54  2017-01-01 17:39:08    구의문출구  정기권  소형   \n",
       "2  서울어린이대공원  2017-01-01 00:05:14  2017-01-01 20:49:35  CMB(정문)   일반  소형   \n",
       "3  서울어린이대공원  2017-01-01 00:09:14  2017-01-01 14:32:37    구의문출구  정기권  소형   \n",
       "4  서울어린이대공원  2017-01-01 00:25:43  2017-01-01 08:41:00  CMB(후문)   일반  소형   \n",
       "\n",
       "   주차시간(분)  \n",
       "0     9682  \n",
       "1     1057  \n",
       "2     1245  \n",
       "3      864  \n",
       "4      494  "
      ]
     },
     "execution_count": 15,
     "metadata": {},
     "output_type": "execute_result"
    }
   ],
   "source": [
    "all17.head()"
   ]
  },
  {
   "cell_type": "code",
   "execution_count": 16,
   "metadata": {},
   "outputs": [],
   "source": [
    "all17['연도'] = 2017"
   ]
  },
  {
   "cell_type": "code",
   "execution_count": 17,
   "metadata": {},
   "outputs": [
    {
     "data": {
      "text/html": [
       "<div>\n",
       "<style scoped>\n",
       "    .dataframe tbody tr th:only-of-type {\n",
       "        vertical-align: middle;\n",
       "    }\n",
       "\n",
       "    .dataframe tbody tr th {\n",
       "        vertical-align: top;\n",
       "    }\n",
       "\n",
       "    .dataframe thead th {\n",
       "        text-align: right;\n",
       "    }\n",
       "</style>\n",
       "<table border=\"1\" class=\"dataframe\">\n",
       "  <thead>\n",
       "    <tr style=\"text-align: right;\">\n",
       "      <th></th>\n",
       "      <th>주차장명</th>\n",
       "      <th>진입시각</th>\n",
       "      <th>진출시각</th>\n",
       "      <th>출구명</th>\n",
       "      <th>고객구분</th>\n",
       "      <th>차종</th>\n",
       "      <th>주차시간(분)</th>\n",
       "      <th>연도</th>\n",
       "    </tr>\n",
       "  </thead>\n",
       "  <tbody>\n",
       "    <tr>\n",
       "      <td>0</td>\n",
       "      <td>서울어린이대공원</td>\n",
       "      <td>2017-01-01 00:00:47</td>\n",
       "      <td>2017-01-07 17:21:59</td>\n",
       "      <td>후문출구</td>\n",
       "      <td>정기권</td>\n",
       "      <td>소형</td>\n",
       "      <td>9682</td>\n",
       "      <td>2017</td>\n",
       "    </tr>\n",
       "    <tr>\n",
       "      <td>1</td>\n",
       "      <td>서울어린이대공원</td>\n",
       "      <td>2017-01-01 00:02:54</td>\n",
       "      <td>2017-01-01 17:39:08</td>\n",
       "      <td>구의문출구</td>\n",
       "      <td>정기권</td>\n",
       "      <td>소형</td>\n",
       "      <td>1057</td>\n",
       "      <td>2017</td>\n",
       "    </tr>\n",
       "    <tr>\n",
       "      <td>2</td>\n",
       "      <td>서울어린이대공원</td>\n",
       "      <td>2017-01-01 00:05:14</td>\n",
       "      <td>2017-01-01 20:49:35</td>\n",
       "      <td>CMB(정문)</td>\n",
       "      <td>일반</td>\n",
       "      <td>소형</td>\n",
       "      <td>1245</td>\n",
       "      <td>2017</td>\n",
       "    </tr>\n",
       "    <tr>\n",
       "      <td>3</td>\n",
       "      <td>서울어린이대공원</td>\n",
       "      <td>2017-01-01 00:09:14</td>\n",
       "      <td>2017-01-01 14:32:37</td>\n",
       "      <td>구의문출구</td>\n",
       "      <td>정기권</td>\n",
       "      <td>소형</td>\n",
       "      <td>864</td>\n",
       "      <td>2017</td>\n",
       "    </tr>\n",
       "    <tr>\n",
       "      <td>4</td>\n",
       "      <td>서울어린이대공원</td>\n",
       "      <td>2017-01-01 00:25:43</td>\n",
       "      <td>2017-01-01 08:41:00</td>\n",
       "      <td>CMB(후문)</td>\n",
       "      <td>일반</td>\n",
       "      <td>소형</td>\n",
       "      <td>494</td>\n",
       "      <td>2017</td>\n",
       "    </tr>\n",
       "  </tbody>\n",
       "</table>\n",
       "</div>"
      ],
      "text/plain": [
       "       주차장명                 진입시각                 진출시각      출구명 고객구분  차종  \\\n",
       "0  서울어린이대공원  2017-01-01 00:00:47  2017-01-07 17:21:59     후문출구  정기권  소형   \n",
       "1  서울어린이대공원  2017-01-01 00:02:54  2017-01-01 17:39:08    구의문출구  정기권  소형   \n",
       "2  서울어린이대공원  2017-01-01 00:05:14  2017-01-01 20:49:35  CMB(정문)   일반  소형   \n",
       "3  서울어린이대공원  2017-01-01 00:09:14  2017-01-01 14:32:37    구의문출구  정기권  소형   \n",
       "4  서울어린이대공원  2017-01-01 00:25:43  2017-01-01 08:41:00  CMB(후문)   일반  소형   \n",
       "\n",
       "   주차시간(분)    연도  \n",
       "0     9682  2017  \n",
       "1     1057  2017  \n",
       "2     1245  2017  \n",
       "3      864  2017  \n",
       "4      494  2017  "
      ]
     },
     "execution_count": 17,
     "metadata": {},
     "output_type": "execute_result"
    }
   ],
   "source": [
    "all17.head()"
   ]
  },
  {
   "cell_type": "code",
   "execution_count": 18,
   "metadata": {},
   "outputs": [],
   "source": [
    "all18['연도'] = 2018"
   ]
  },
  {
   "cell_type": "code",
   "execution_count": 19,
   "metadata": {},
   "outputs": [],
   "source": [
    "all19['연도'] = 2019"
   ]
  },
  {
   "cell_type": "markdown",
   "metadata": {},
   "source": [
    "# 데이터 합치기"
   ]
  },
  {
   "cell_type": "code",
   "execution_count": 21,
   "metadata": {},
   "outputs": [
    {
     "name": "stderr",
     "output_type": "stream",
     "text": [
      "/home/leebom/.local/lib/python3.6/site-packages/ipykernel_launcher.py:1: FutureWarning: Sorting because non-concatenation axis is not aligned. A future version\n",
      "of pandas will change to not sort by default.\n",
      "\n",
      "To accept the future behavior, pass 'sort=False'.\n",
      "\n",
      "To retain the current behavior and silence the warning, pass 'sort=True'.\n",
      "\n",
      "  \"\"\"Entry point for launching an IPython kernel.\n"
     ]
    }
   ],
   "source": [
    "alldf = pd.concat([all17,all18,all19])"
   ]
  },
  {
   "cell_type": "code",
   "execution_count": 22,
   "metadata": {},
   "outputs": [
    {
     "data": {
      "text/html": [
       "<div>\n",
       "<style scoped>\n",
       "    .dataframe tbody tr th:only-of-type {\n",
       "        vertical-align: middle;\n",
       "    }\n",
       "\n",
       "    .dataframe tbody tr th {\n",
       "        vertical-align: top;\n",
       "    }\n",
       "\n",
       "    .dataframe thead th {\n",
       "        text-align: right;\n",
       "    }\n",
       "</style>\n",
       "<table border=\"1\" class=\"dataframe\">\n",
       "  <thead>\n",
       "    <tr style=\"text-align: right;\">\n",
       "      <th></th>\n",
       "      <th>고객구분</th>\n",
       "      <th>연도</th>\n",
       "      <th>입구명</th>\n",
       "      <th>주차시간(분)</th>\n",
       "      <th>주차장명</th>\n",
       "      <th>진입시각</th>\n",
       "      <th>진출시각</th>\n",
       "      <th>차종</th>\n",
       "      <th>출구명</th>\n",
       "    </tr>\n",
       "  </thead>\n",
       "  <tbody>\n",
       "    <tr>\n",
       "      <td>0</td>\n",
       "      <td>정기권</td>\n",
       "      <td>2017</td>\n",
       "      <td>NaN</td>\n",
       "      <td>9682</td>\n",
       "      <td>서울어린이대공원</td>\n",
       "      <td>2017-01-01 00:00:47</td>\n",
       "      <td>2017-01-07 17:21:59</td>\n",
       "      <td>소형</td>\n",
       "      <td>후문출구</td>\n",
       "    </tr>\n",
       "    <tr>\n",
       "      <td>1</td>\n",
       "      <td>정기권</td>\n",
       "      <td>2017</td>\n",
       "      <td>NaN</td>\n",
       "      <td>1057</td>\n",
       "      <td>서울어린이대공원</td>\n",
       "      <td>2017-01-01 00:02:54</td>\n",
       "      <td>2017-01-01 17:39:08</td>\n",
       "      <td>소형</td>\n",
       "      <td>구의문출구</td>\n",
       "    </tr>\n",
       "    <tr>\n",
       "      <td>2</td>\n",
       "      <td>일반</td>\n",
       "      <td>2017</td>\n",
       "      <td>NaN</td>\n",
       "      <td>1245</td>\n",
       "      <td>서울어린이대공원</td>\n",
       "      <td>2017-01-01 00:05:14</td>\n",
       "      <td>2017-01-01 20:49:35</td>\n",
       "      <td>소형</td>\n",
       "      <td>CMB(정문)</td>\n",
       "    </tr>\n",
       "    <tr>\n",
       "      <td>3</td>\n",
       "      <td>정기권</td>\n",
       "      <td>2017</td>\n",
       "      <td>NaN</td>\n",
       "      <td>864</td>\n",
       "      <td>서울어린이대공원</td>\n",
       "      <td>2017-01-01 00:09:14</td>\n",
       "      <td>2017-01-01 14:32:37</td>\n",
       "      <td>소형</td>\n",
       "      <td>구의문출구</td>\n",
       "    </tr>\n",
       "    <tr>\n",
       "      <td>4</td>\n",
       "      <td>일반</td>\n",
       "      <td>2017</td>\n",
       "      <td>NaN</td>\n",
       "      <td>494</td>\n",
       "      <td>서울어린이대공원</td>\n",
       "      <td>2017-01-01 00:25:43</td>\n",
       "      <td>2017-01-01 08:41:00</td>\n",
       "      <td>소형</td>\n",
       "      <td>CMB(후문)</td>\n",
       "    </tr>\n",
       "  </tbody>\n",
       "</table>\n",
       "</div>"
      ],
      "text/plain": [
       "  고객구분    연도  입구명  주차시간(분)      주차장명                 진입시각  \\\n",
       "0  정기권  2017  NaN     9682  서울어린이대공원  2017-01-01 00:00:47   \n",
       "1  정기권  2017  NaN     1057  서울어린이대공원  2017-01-01 00:02:54   \n",
       "2   일반  2017  NaN     1245  서울어린이대공원  2017-01-01 00:05:14   \n",
       "3  정기권  2017  NaN      864  서울어린이대공원  2017-01-01 00:09:14   \n",
       "4   일반  2017  NaN      494  서울어린이대공원  2017-01-01 00:25:43   \n",
       "\n",
       "                  진출시각  차종      출구명  \n",
       "0  2017-01-07 17:21:59  소형     후문출구  \n",
       "1  2017-01-01 17:39:08  소형    구의문출구  \n",
       "2  2017-01-01 20:49:35  소형  CMB(정문)  \n",
       "3  2017-01-01 14:32:37  소형    구의문출구  \n",
       "4  2017-01-01 08:41:00  소형  CMB(후문)  "
      ]
     },
     "execution_count": 22,
     "metadata": {},
     "output_type": "execute_result"
    }
   ],
   "source": [
    "alldf.head()"
   ]
  },
  {
   "cell_type": "code",
   "execution_count": 23,
   "metadata": {},
   "outputs": [],
   "source": [
    "alldf.to_csv('./data/전체데이터원본.csv',index=False)"
   ]
  },
  {
   "cell_type": "markdown",
   "metadata": {},
   "source": [
    "# drop"
   ]
  },
  {
   "cell_type": "code",
   "execution_count": 24,
   "metadata": {},
   "outputs": [
    {
     "data": {
      "text/html": [
       "<div>\n",
       "<style scoped>\n",
       "    .dataframe tbody tr th:only-of-type {\n",
       "        vertical-align: middle;\n",
       "    }\n",
       "\n",
       "    .dataframe tbody tr th {\n",
       "        vertical-align: top;\n",
       "    }\n",
       "\n",
       "    .dataframe thead th {\n",
       "        text-align: right;\n",
       "    }\n",
       "</style>\n",
       "<table border=\"1\" class=\"dataframe\">\n",
       "  <thead>\n",
       "    <tr style=\"text-align: right;\">\n",
       "      <th></th>\n",
       "      <th>고객구분</th>\n",
       "      <th>연도</th>\n",
       "      <th>입구명</th>\n",
       "      <th>주차시간(분)</th>\n",
       "      <th>주차장명</th>\n",
       "      <th>진입시각</th>\n",
       "      <th>진출시각</th>\n",
       "      <th>차종</th>\n",
       "      <th>출구명</th>\n",
       "    </tr>\n",
       "  </thead>\n",
       "  <tbody>\n",
       "    <tr>\n",
       "      <td>0</td>\n",
       "      <td>정기권</td>\n",
       "      <td>2017</td>\n",
       "      <td>NaN</td>\n",
       "      <td>9682</td>\n",
       "      <td>서울어린이대공원</td>\n",
       "      <td>2017-01-01 00:00:47</td>\n",
       "      <td>2017-01-07 17:21:59</td>\n",
       "      <td>소형</td>\n",
       "      <td>후문출구</td>\n",
       "    </tr>\n",
       "    <tr>\n",
       "      <td>1</td>\n",
       "      <td>정기권</td>\n",
       "      <td>2017</td>\n",
       "      <td>NaN</td>\n",
       "      <td>1057</td>\n",
       "      <td>서울어린이대공원</td>\n",
       "      <td>2017-01-01 00:02:54</td>\n",
       "      <td>2017-01-01 17:39:08</td>\n",
       "      <td>소형</td>\n",
       "      <td>구의문출구</td>\n",
       "    </tr>\n",
       "    <tr>\n",
       "      <td>2</td>\n",
       "      <td>일반</td>\n",
       "      <td>2017</td>\n",
       "      <td>NaN</td>\n",
       "      <td>1245</td>\n",
       "      <td>서울어린이대공원</td>\n",
       "      <td>2017-01-01 00:05:14</td>\n",
       "      <td>2017-01-01 20:49:35</td>\n",
       "      <td>소형</td>\n",
       "      <td>CMB(정문)</td>\n",
       "    </tr>\n",
       "    <tr>\n",
       "      <td>3</td>\n",
       "      <td>정기권</td>\n",
       "      <td>2017</td>\n",
       "      <td>NaN</td>\n",
       "      <td>864</td>\n",
       "      <td>서울어린이대공원</td>\n",
       "      <td>2017-01-01 00:09:14</td>\n",
       "      <td>2017-01-01 14:32:37</td>\n",
       "      <td>소형</td>\n",
       "      <td>구의문출구</td>\n",
       "    </tr>\n",
       "    <tr>\n",
       "      <td>4</td>\n",
       "      <td>일반</td>\n",
       "      <td>2017</td>\n",
       "      <td>NaN</td>\n",
       "      <td>494</td>\n",
       "      <td>서울어린이대공원</td>\n",
       "      <td>2017-01-01 00:25:43</td>\n",
       "      <td>2017-01-01 08:41:00</td>\n",
       "      <td>소형</td>\n",
       "      <td>CMB(후문)</td>\n",
       "    </tr>\n",
       "  </tbody>\n",
       "</table>\n",
       "</div>"
      ],
      "text/plain": [
       "  고객구분    연도  입구명  주차시간(분)      주차장명                 진입시각  \\\n",
       "0  정기권  2017  NaN     9682  서울어린이대공원  2017-01-01 00:00:47   \n",
       "1  정기권  2017  NaN     1057  서울어린이대공원  2017-01-01 00:02:54   \n",
       "2   일반  2017  NaN     1245  서울어린이대공원  2017-01-01 00:05:14   \n",
       "3  정기권  2017  NaN      864  서울어린이대공원  2017-01-01 00:09:14   \n",
       "4   일반  2017  NaN      494  서울어린이대공원  2017-01-01 00:25:43   \n",
       "\n",
       "                  진출시각  차종      출구명  \n",
       "0  2017-01-07 17:21:59  소형     후문출구  \n",
       "1  2017-01-01 17:39:08  소형    구의문출구  \n",
       "2  2017-01-01 20:49:35  소형  CMB(정문)  \n",
       "3  2017-01-01 14:32:37  소형    구의문출구  \n",
       "4  2017-01-01 08:41:00  소형  CMB(후문)  "
      ]
     },
     "execution_count": 24,
     "metadata": {},
     "output_type": "execute_result"
    }
   ],
   "source": [
    "alldf.head()"
   ]
  },
  {
   "cell_type": "code",
   "execution_count": 25,
   "metadata": {},
   "outputs": [],
   "source": [
    "alldf = alldf.drop(columns=['입구명','주차장명','출구명'])"
   ]
  },
  {
   "cell_type": "code",
   "execution_count": 26,
   "metadata": {},
   "outputs": [
    {
     "data": {
      "text/html": [
       "<div>\n",
       "<style scoped>\n",
       "    .dataframe tbody tr th:only-of-type {\n",
       "        vertical-align: middle;\n",
       "    }\n",
       "\n",
       "    .dataframe tbody tr th {\n",
       "        vertical-align: top;\n",
       "    }\n",
       "\n",
       "    .dataframe thead th {\n",
       "        text-align: right;\n",
       "    }\n",
       "</style>\n",
       "<table border=\"1\" class=\"dataframe\">\n",
       "  <thead>\n",
       "    <tr style=\"text-align: right;\">\n",
       "      <th></th>\n",
       "      <th>고객구분</th>\n",
       "      <th>연도</th>\n",
       "      <th>주차시간(분)</th>\n",
       "      <th>진입시각</th>\n",
       "      <th>진출시각</th>\n",
       "      <th>차종</th>\n",
       "    </tr>\n",
       "  </thead>\n",
       "  <tbody>\n",
       "    <tr>\n",
       "      <td>0</td>\n",
       "      <td>정기권</td>\n",
       "      <td>2017</td>\n",
       "      <td>9682</td>\n",
       "      <td>2017-01-01 00:00:47</td>\n",
       "      <td>2017-01-07 17:21:59</td>\n",
       "      <td>소형</td>\n",
       "    </tr>\n",
       "    <tr>\n",
       "      <td>1</td>\n",
       "      <td>정기권</td>\n",
       "      <td>2017</td>\n",
       "      <td>1057</td>\n",
       "      <td>2017-01-01 00:02:54</td>\n",
       "      <td>2017-01-01 17:39:08</td>\n",
       "      <td>소형</td>\n",
       "    </tr>\n",
       "    <tr>\n",
       "      <td>2</td>\n",
       "      <td>일반</td>\n",
       "      <td>2017</td>\n",
       "      <td>1245</td>\n",
       "      <td>2017-01-01 00:05:14</td>\n",
       "      <td>2017-01-01 20:49:35</td>\n",
       "      <td>소형</td>\n",
       "    </tr>\n",
       "    <tr>\n",
       "      <td>3</td>\n",
       "      <td>정기권</td>\n",
       "      <td>2017</td>\n",
       "      <td>864</td>\n",
       "      <td>2017-01-01 00:09:14</td>\n",
       "      <td>2017-01-01 14:32:37</td>\n",
       "      <td>소형</td>\n",
       "    </tr>\n",
       "    <tr>\n",
       "      <td>4</td>\n",
       "      <td>일반</td>\n",
       "      <td>2017</td>\n",
       "      <td>494</td>\n",
       "      <td>2017-01-01 00:25:43</td>\n",
       "      <td>2017-01-01 08:41:00</td>\n",
       "      <td>소형</td>\n",
       "    </tr>\n",
       "  </tbody>\n",
       "</table>\n",
       "</div>"
      ],
      "text/plain": [
       "  고객구분    연도  주차시간(분)                 진입시각                 진출시각  차종\n",
       "0  정기권  2017     9682  2017-01-01 00:00:47  2017-01-07 17:21:59  소형\n",
       "1  정기권  2017     1057  2017-01-01 00:02:54  2017-01-01 17:39:08  소형\n",
       "2   일반  2017     1245  2017-01-01 00:05:14  2017-01-01 20:49:35  소형\n",
       "3  정기권  2017      864  2017-01-01 00:09:14  2017-01-01 14:32:37  소형\n",
       "4   일반  2017      494  2017-01-01 00:25:43  2017-01-01 08:41:00  소형"
      ]
     },
     "execution_count": 26,
     "metadata": {},
     "output_type": "execute_result"
    }
   ],
   "source": [
    "alldf.head()"
   ]
  },
  {
   "cell_type": "code",
   "execution_count": 28,
   "metadata": {},
   "outputs": [],
   "source": [
    "alldf.to_csv('./data/전체_입구명_출구명_제거.csv',index=False)"
   ]
  },
  {
   "cell_type": "code",
   "execution_count": 32,
   "metadata": {},
   "outputs": [
    {
     "data": {
      "text/plain": [
       "수동출차                   6130\n",
       "중복입차                   1310\n",
       "주차중                     376\n",
       "2019-09-23 17:50:00       3\n",
       "2017-04-11 16:54:15       3\n",
       "                       ... \n",
       "2017-08-14 17:30:10       1\n",
       "2017-05-25 14:04:21       1\n",
       "2017-09-22 14:51:24       1\n",
       "2017-09-01 17:04:34       1\n",
       "2017-05-30 08:53:20       1\n",
       "Name: 진출시각, Length: 1154341, dtype: int64"
      ]
     },
     "execution_count": 32,
     "metadata": {},
     "output_type": "execute_result"
    }
   ],
   "source": [
    "alldf['진출시각'].value_counts()"
   ]
  },
  {
   "cell_type": "code",
   "execution_count": 35,
   "metadata": {},
   "outputs": [
    {
     "data": {
      "text/html": [
       "<div>\n",
       "<style scoped>\n",
       "    .dataframe tbody tr th:only-of-type {\n",
       "        vertical-align: middle;\n",
       "    }\n",
       "\n",
       "    .dataframe tbody tr th {\n",
       "        vertical-align: top;\n",
       "    }\n",
       "\n",
       "    .dataframe thead th {\n",
       "        text-align: right;\n",
       "    }\n",
       "</style>\n",
       "<table border=\"1\" class=\"dataframe\">\n",
       "  <thead>\n",
       "    <tr style=\"text-align: right;\">\n",
       "      <th></th>\n",
       "      <th>고객구분</th>\n",
       "      <th>연도</th>\n",
       "      <th>주차시간(분)</th>\n",
       "      <th>진입시각</th>\n",
       "      <th>진출시각</th>\n",
       "      <th>차종</th>\n",
       "    </tr>\n",
       "  </thead>\n",
       "  <tbody>\n",
       "    <tr>\n",
       "      <td>0</td>\n",
       "      <td>정기권</td>\n",
       "      <td>2017</td>\n",
       "      <td>9682</td>\n",
       "      <td>2017-01-01 00:00:47</td>\n",
       "      <td>2017-01-07 17:21:59</td>\n",
       "      <td>소형</td>\n",
       "    </tr>\n",
       "    <tr>\n",
       "      <td>1</td>\n",
       "      <td>정기권</td>\n",
       "      <td>2017</td>\n",
       "      <td>1057</td>\n",
       "      <td>2017-01-01 00:02:54</td>\n",
       "      <td>2017-01-01 17:39:08</td>\n",
       "      <td>소형</td>\n",
       "    </tr>\n",
       "    <tr>\n",
       "      <td>2</td>\n",
       "      <td>일반</td>\n",
       "      <td>2017</td>\n",
       "      <td>1245</td>\n",
       "      <td>2017-01-01 00:05:14</td>\n",
       "      <td>2017-01-01 20:49:35</td>\n",
       "      <td>소형</td>\n",
       "    </tr>\n",
       "    <tr>\n",
       "      <td>3</td>\n",
       "      <td>정기권</td>\n",
       "      <td>2017</td>\n",
       "      <td>864</td>\n",
       "      <td>2017-01-01 00:09:14</td>\n",
       "      <td>2017-01-01 14:32:37</td>\n",
       "      <td>소형</td>\n",
       "    </tr>\n",
       "    <tr>\n",
       "      <td>4</td>\n",
       "      <td>일반</td>\n",
       "      <td>2017</td>\n",
       "      <td>494</td>\n",
       "      <td>2017-01-01 00:25:43</td>\n",
       "      <td>2017-01-01 08:41:00</td>\n",
       "      <td>소형</td>\n",
       "    </tr>\n",
       "    <tr>\n",
       "      <td>...</td>\n",
       "      <td>...</td>\n",
       "      <td>...</td>\n",
       "      <td>...</td>\n",
       "      <td>...</td>\n",
       "      <td>...</td>\n",
       "      <td>...</td>\n",
       "    </tr>\n",
       "    <tr>\n",
       "      <td>511077</td>\n",
       "      <td>일반</td>\n",
       "      <td>2019</td>\n",
       "      <td>3</td>\n",
       "      <td>2019-10-24 10:15:13</td>\n",
       "      <td>2019-10-24 10:17:55</td>\n",
       "      <td>소형</td>\n",
       "    </tr>\n",
       "    <tr>\n",
       "      <td>511092</td>\n",
       "      <td>일반</td>\n",
       "      <td>2019</td>\n",
       "      <td>11</td>\n",
       "      <td>2019-10-24 10:19:42</td>\n",
       "      <td>2019-10-24 10:30:40</td>\n",
       "      <td>소형</td>\n",
       "    </tr>\n",
       "    <tr>\n",
       "      <td>511111</td>\n",
       "      <td>일반</td>\n",
       "      <td>2019</td>\n",
       "      <td>10</td>\n",
       "      <td>2019-10-24 10:25:19</td>\n",
       "      <td>2019-10-24 10:35:09</td>\n",
       "      <td>소형</td>\n",
       "    </tr>\n",
       "    <tr>\n",
       "      <td>511119</td>\n",
       "      <td>일반</td>\n",
       "      <td>2019</td>\n",
       "      <td>5</td>\n",
       "      <td>2019-10-24 10:27:33</td>\n",
       "      <td>2019-10-24 10:32:30</td>\n",
       "      <td>소형</td>\n",
       "    </tr>\n",
       "    <tr>\n",
       "      <td>511120</td>\n",
       "      <td>일반</td>\n",
       "      <td>2019</td>\n",
       "      <td>1</td>\n",
       "      <td>2019-10-24 10:28:22</td>\n",
       "      <td>2019-10-24 10:29:11</td>\n",
       "      <td>소형</td>\n",
       "    </tr>\n",
       "  </tbody>\n",
       "</table>\n",
       "<p>1172301 rows × 6 columns</p>\n",
       "</div>"
      ],
      "text/plain": [
       "       고객구분    연도  주차시간(분)                 진입시각                 진출시각  차종\n",
       "0       정기권  2017     9682  2017-01-01 00:00:47  2017-01-07 17:21:59  소형\n",
       "1       정기권  2017     1057  2017-01-01 00:02:54  2017-01-01 17:39:08  소형\n",
       "2        일반  2017     1245  2017-01-01 00:05:14  2017-01-01 20:49:35  소형\n",
       "3       정기권  2017      864  2017-01-01 00:09:14  2017-01-01 14:32:37  소형\n",
       "4        일반  2017      494  2017-01-01 00:25:43  2017-01-01 08:41:00  소형\n",
       "...     ...   ...      ...                  ...                  ...  ..\n",
       "511077   일반  2019        3  2019-10-24 10:15:13  2019-10-24 10:17:55  소형\n",
       "511092   일반  2019       11  2019-10-24 10:19:42  2019-10-24 10:30:40  소형\n",
       "511111   일반  2019       10  2019-10-24 10:25:19  2019-10-24 10:35:09  소형\n",
       "511119   일반  2019        5  2019-10-24 10:27:33  2019-10-24 10:32:30  소형\n",
       "511120   일반  2019        1  2019-10-24 10:28:22  2019-10-24 10:29:11  소형\n",
       "\n",
       "[1172301 rows x 6 columns]"
      ]
     },
     "execution_count": 35,
     "metadata": {},
     "output_type": "execute_result"
    }
   ],
   "source": [
    "alldf = alldf[~alldf['진출시각'].isin(['수동출차', '중복입차', '주차중'])]\n",
    "alldf"
   ]
  },
  {
   "cell_type": "markdown",
   "metadata": {},
   "source": [
    "# distplot"
   ]
  },
  {
   "cell_type": "code",
   "execution_count": 36,
   "metadata": {},
   "outputs": [
    {
     "data": {
      "text/plain": [
       "<matplotlib.axes._subplots.AxesSubplot at 0x7f93b08e6f60>"
      ]
     },
     "execution_count": 36,
     "metadata": {},
     "output_type": "execute_result"
    },
    {
     "data": {
      "image/png": "[encoded data removed]",
      "text/plain": [
       "<Figure size 432x288 with 1 Axes>"
      ]
     },
     "metadata": {
      "needs_background": "light"
     },
     "output_type": "display_data"
    }
   ],
   "source": [
    "sns.distplot(alldf['주차시간(분)'])"
   ]
  },
  {
   "cell_type": "markdown",
   "metadata": {},
   "source": [
    "## 주차시간 < 780분"
   ]
  },
  {
   "cell_type": "code",
   "execution_count": null,
   "metadata": {},
   "outputs": [],
   "source": [
    "alldf_780 = alldf[alldf['주차시간(분)'] < 780]"
   ]
  },
  {
   "cell_type": "code",
   "execution_count": null,
   "metadata": {},
   "outputs": [],
   "source": [
    "sns.distplot(alldf[alldf['주차시간(분)'] < 780])"
   ]
  },
  {
   "cell_type": "code",
   "execution_count": null,
   "metadata": {},
   "outputs": [],
   "source": []
  },
  {
   "cell_type": "code",
   "execution_count": null,
   "metadata": {},
   "outputs": [],
   "source": []
  },
  {
   "cell_type": "code",
   "execution_count": null,
   "metadata": {},
   "outputs": [],
   "source": []
  },
  {
   "cell_type": "code",
   "execution_count": null,
   "metadata": {},
   "outputs": [],
   "source": []
  },
  {
   "cell_type": "code",
   "execution_count": null,
   "metadata": {},
   "outputs": [],
   "source": []
  },
  {
   "cell_type": "code",
   "execution_count": null,
   "metadata": {},
   "outputs": [],
   "source": []
  }
 ],
 "metadata": {
  "kernelspec": {
   "display_name": "Python 3",
   "language": "python",
   "name": "python3"
  },
  "language_info": {
   "codemirror_mode": {
    "name": "ipython",
    "version": 3
   },
   "file_extension": ".py",
   "mimetype": "text/x-python",
   "name": "python",
   "nbconvert_exporter": "python",
   "pygments_lexer": "ipython3",
   "version": "3.6.8"
  }
 },
 "nbformat": 4,
 "nbformat_minor": 2
}
