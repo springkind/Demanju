{
 "cells": [
  {
   "cell_type": "code",
   "execution_count": 18,
   "metadata": {},
   "outputs": [],
   "source": [
    "import pandas as pd\n",
    "import numpy as np\n",
    "from matplotlib import pyplot as plt\n",
    "import seaborn as sns\n",
    "\n",
    "%matplotlib inline"
   ]
  },
  {
   "cell_type": "code",
   "execution_count": 19,
   "metadata": {},
   "outputs": [
    {
     "name": "stderr",
     "output_type": "stream",
     "text": [
      "/home/leebom/.local/lib/python3.6/site-packages/IPython/core/interactiveshell.py:3058: DtypeWarning: Columns (2,8) have mixed types. Specify dtype option on import or set low_memory=False.\n",
      "  interactivity=interactivity, compiler=compiler, result=result)\n"
     ]
    }
   ],
   "source": [
    "alldf = pd.read_csv('./data/전체데이터원본.csv')"
   ]
  },
  {
   "cell_type": "code",
   "execution_count": 20,
   "metadata": {},
   "outputs": [
    {
     "data": {
      "text/plain": [
       "<matplotlib.axes._subplots.AxesSubplot at 0x7f6cc5216470>"
      ]
     },
     "execution_count": 20,
     "metadata": {},
     "output_type": "execute_result"
    },
    {
     "data": {
      "image/png": "[encoded data removed]",
      "text/plain": [
       "<Figure size 864x360 with 2 Axes>"
      ]
     },
     "metadata": {
      "needs_background": "light"
     },
     "output_type": "display_data"
    }
   ],
   "source": [
    "import missingno as msno\n",
    "\n",
    "msno.matrix(alldf, figsize=(12,5))"
   ]
  },
  {
   "cell_type": "code",
   "execution_count": 15,
   "metadata": {},
   "outputs": [],
   "source": [
    "alldf = alldf[~alldf['진출시각'].isin(['수동출차', '중복입차', '주차중'])]"
   ]
  },
  {
   "cell_type": "code",
   "execution_count": null,
   "metadata": {},
   "outputs": [],
   "source": []
  },
  {
   "cell_type": "code",
   "execution_count": 16,
   "metadata": {},
   "outputs": [
    {
     "name": "stderr",
     "output_type": "stream",
     "text": [
      "/home/leebom/.local/lib/python3.6/site-packages/ipykernel_launcher.py:1: SettingWithCopyWarning: \n",
      "A value is trying to be set on a copy of a slice from a DataFrame.\n",
      "Try using .loc[row_indexer,col_indexer] = value instead\n",
      "\n",
      "See the caveats in the documentation: http://pandas.pydata.org/pandas-docs/stable/user_guide/indexing.html#returning-a-view-versus-a-copy\n",
      "  \"\"\"Entry point for launching an IPython kernel.\n",
      "/home/leebom/.local/lib/python3.6/site-packages/ipykernel_launcher.py:2: SettingWithCopyWarning: \n",
      "A value is trying to be set on a copy of a slice from a DataFrame.\n",
      "Try using .loc[row_indexer,col_indexer] = value instead\n",
      "\n",
      "See the caveats in the documentation: http://pandas.pydata.org/pandas-docs/stable/user_guide/indexing.html#returning-a-view-versus-a-copy\n",
      "  \n"
     ]
    }
   ],
   "source": [
    "alldf['진입시각'] = pd.to_datetime(alldf['진입시각'])\n",
    "alldf['진출시각'] = pd.to_datetime(alldf['진출시각'])"
   ]
  },
  {
   "cell_type": "code",
   "execution_count": 21,
   "metadata": {},
   "outputs": [
    {
     "data": {
      "text/html": [
       "<div>\n",
       "<style scoped>\n",
       "    .dataframe tbody tr th:only-of-type {\n",
       "        vertical-align: middle;\n",
       "    }\n",
       "\n",
       "    .dataframe tbody tr th {\n",
       "        vertical-align: top;\n",
       "    }\n",
       "\n",
       "    .dataframe thead th {\n",
       "        text-align: right;\n",
       "    }\n",
       "</style>\n",
       "<table border=\"1\" class=\"dataframe\">\n",
       "  <thead>\n",
       "    <tr style=\"text-align: right;\">\n",
       "      <th></th>\n",
       "      <th>고객구분</th>\n",
       "      <th>연도</th>\n",
       "      <th>입구명</th>\n",
       "      <th>주차시간(분)</th>\n",
       "      <th>주차장명</th>\n",
       "      <th>진입시각</th>\n",
       "      <th>진출시각</th>\n",
       "      <th>차종</th>\n",
       "      <th>출구명</th>\n",
       "    </tr>\n",
       "  </thead>\n",
       "  <tbody>\n",
       "    <tr>\n",
       "      <td>count</td>\n",
       "      <td>1180117</td>\n",
       "      <td>1.180117e+06</td>\n",
       "      <td>511147</td>\n",
       "      <td>1.180117e+06</td>\n",
       "      <td>1180117</td>\n",
       "      <td>1180117</td>\n",
       "      <td>1180117</td>\n",
       "      <td>1180117</td>\n",
       "      <td>668970</td>\n",
       "    </tr>\n",
       "    <tr>\n",
       "      <td>unique</td>\n",
       "      <td>3</td>\n",
       "      <td>NaN</td>\n",
       "      <td>6</td>\n",
       "      <td>NaN</td>\n",
       "      <td>1</td>\n",
       "      <td>1162734</td>\n",
       "      <td>1154341</td>\n",
       "      <td>4</td>\n",
       "      <td>10</td>\n",
       "    </tr>\n",
       "    <tr>\n",
       "      <td>top</td>\n",
       "      <td>일반</td>\n",
       "      <td>NaN</td>\n",
       "      <td>후문입구</td>\n",
       "      <td>NaN</td>\n",
       "      <td>서울어린이대공원</td>\n",
       "      <td>2019-02-14 10:31:00</td>\n",
       "      <td>수동출차</td>\n",
       "      <td>소형</td>\n",
       "      <td>CMB(후문)</td>\n",
       "    </tr>\n",
       "    <tr>\n",
       "      <td>freq</td>\n",
       "      <td>1089915</td>\n",
       "      <td>NaN</td>\n",
       "      <td>188881</td>\n",
       "      <td>NaN</td>\n",
       "      <td>1180117</td>\n",
       "      <td>25</td>\n",
       "      <td>6130</td>\n",
       "      <td>1087742</td>\n",
       "      <td>180288</td>\n",
       "    </tr>\n",
       "    <tr>\n",
       "      <td>mean</td>\n",
       "      <td>NaN</td>\n",
       "      <td>2.017895e+03</td>\n",
       "      <td>NaN</td>\n",
       "      <td>2.080901e+02</td>\n",
       "      <td>NaN</td>\n",
       "      <td>NaN</td>\n",
       "      <td>NaN</td>\n",
       "      <td>NaN</td>\n",
       "      <td>NaN</td>\n",
       "    </tr>\n",
       "    <tr>\n",
       "      <td>std</td>\n",
       "      <td>NaN</td>\n",
       "      <td>9.799470e-01</td>\n",
       "      <td>NaN</td>\n",
       "      <td>8.924441e+02</td>\n",
       "      <td>NaN</td>\n",
       "      <td>NaN</td>\n",
       "      <td>NaN</td>\n",
       "      <td>NaN</td>\n",
       "      <td>NaN</td>\n",
       "    </tr>\n",
       "    <tr>\n",
       "      <td>min</td>\n",
       "      <td>NaN</td>\n",
       "      <td>2.017000e+03</td>\n",
       "      <td>NaN</td>\n",
       "      <td>-3.000000e+00</td>\n",
       "      <td>NaN</td>\n",
       "      <td>NaN</td>\n",
       "      <td>NaN</td>\n",
       "      <td>NaN</td>\n",
       "      <td>NaN</td>\n",
       "    </tr>\n",
       "    <tr>\n",
       "      <td>25%</td>\n",
       "      <td>NaN</td>\n",
       "      <td>2.017000e+03</td>\n",
       "      <td>NaN</td>\n",
       "      <td>5.200000e+01</td>\n",
       "      <td>NaN</td>\n",
       "      <td>NaN</td>\n",
       "      <td>NaN</td>\n",
       "      <td>NaN</td>\n",
       "      <td>NaN</td>\n",
       "    </tr>\n",
       "    <tr>\n",
       "      <td>50%</td>\n",
       "      <td>NaN</td>\n",
       "      <td>2.017000e+03</td>\n",
       "      <td>NaN</td>\n",
       "      <td>1.240000e+02</td>\n",
       "      <td>NaN</td>\n",
       "      <td>NaN</td>\n",
       "      <td>NaN</td>\n",
       "      <td>NaN</td>\n",
       "      <td>NaN</td>\n",
       "    </tr>\n",
       "    <tr>\n",
       "      <td>75%</td>\n",
       "      <td>NaN</td>\n",
       "      <td>2.019000e+03</td>\n",
       "      <td>NaN</td>\n",
       "      <td>2.090000e+02</td>\n",
       "      <td>NaN</td>\n",
       "      <td>NaN</td>\n",
       "      <td>NaN</td>\n",
       "      <td>NaN</td>\n",
       "      <td>NaN</td>\n",
       "    </tr>\n",
       "    <tr>\n",
       "      <td>max</td>\n",
       "      <td>NaN</td>\n",
       "      <td>2.019000e+03</td>\n",
       "      <td>NaN</td>\n",
       "      <td>2.144450e+05</td>\n",
       "      <td>NaN</td>\n",
       "      <td>NaN</td>\n",
       "      <td>NaN</td>\n",
       "      <td>NaN</td>\n",
       "      <td>NaN</td>\n",
       "    </tr>\n",
       "  </tbody>\n",
       "</table>\n",
       "</div>"
      ],
      "text/plain": [
       "           고객구분            연도     입구명       주차시간(분)      주차장명  \\\n",
       "count   1180117  1.180117e+06  511147  1.180117e+06   1180117   \n",
       "unique        3           NaN       6           NaN         1   \n",
       "top          일반           NaN    후문입구           NaN  서울어린이대공원   \n",
       "freq    1089915           NaN  188881           NaN   1180117   \n",
       "mean        NaN  2.017895e+03     NaN  2.080901e+02       NaN   \n",
       "std         NaN  9.799470e-01     NaN  8.924441e+02       NaN   \n",
       "min         NaN  2.017000e+03     NaN -3.000000e+00       NaN   \n",
       "25%         NaN  2.017000e+03     NaN  5.200000e+01       NaN   \n",
       "50%         NaN  2.017000e+03     NaN  1.240000e+02       NaN   \n",
       "75%         NaN  2.019000e+03     NaN  2.090000e+02       NaN   \n",
       "max         NaN  2.019000e+03     NaN  2.144450e+05       NaN   \n",
       "\n",
       "                       진입시각     진출시각       차종      출구명  \n",
       "count               1180117  1180117  1180117   668970  \n",
       "unique              1162734  1154341        4       10  \n",
       "top     2019-02-14 10:31:00     수동출차       소형  CMB(후문)  \n",
       "freq                     25     6130  1087742   180288  \n",
       "mean                    NaN      NaN      NaN      NaN  \n",
       "std                     NaN      NaN      NaN      NaN  \n",
       "min                     NaN      NaN      NaN      NaN  \n",
       "25%                     NaN      NaN      NaN      NaN  \n",
       "50%                     NaN      NaN      NaN      NaN  \n",
       "75%                     NaN      NaN      NaN      NaN  \n",
       "max                     NaN      NaN      NaN      NaN  "
      ]
     },
     "execution_count": 21,
     "metadata": {},
     "output_type": "execute_result"
    }
   ],
   "source": [
    "alldf.describe(include='all')"
   ]
  },
  {
   "cell_type": "code",
   "execution_count": 10,
   "metadata": {},
   "outputs": [
    {
     "data": {
      "text/html": [
       "<div>\n",
       "<style scoped>\n",
       "    .dataframe tbody tr th:only-of-type {\n",
       "        vertical-align: middle;\n",
       "    }\n",
       "\n",
       "    .dataframe tbody tr th {\n",
       "        vertical-align: top;\n",
       "    }\n",
       "\n",
       "    .dataframe thead th {\n",
       "        text-align: right;\n",
       "    }\n",
       "</style>\n",
       "<table border=\"1\" class=\"dataframe\">\n",
       "  <thead>\n",
       "    <tr style=\"text-align: right;\">\n",
       "      <th></th>\n",
       "      <th>입구명</th>\n",
       "    </tr>\n",
       "  </thead>\n",
       "  <tbody>\n",
       "    <tr>\n",
       "      <td>후문입구</td>\n",
       "      <td>188881</td>\n",
       "    </tr>\n",
       "    <tr>\n",
       "      <td>정문입구</td>\n",
       "      <td>181532</td>\n",
       "    </tr>\n",
       "    <tr>\n",
       "      <td>구의문입구</td>\n",
       "      <td>134537</td>\n",
       "    </tr>\n",
       "    <tr>\n",
       "      <td>CMB(후문)</td>\n",
       "      <td>4473</td>\n",
       "    </tr>\n",
       "    <tr>\n",
       "      <td>CMB(정문)</td>\n",
       "      <td>1020</td>\n",
       "    </tr>\n",
       "    <tr>\n",
       "      <td>CMB구의문)</td>\n",
       "      <td>704</td>\n",
       "    </tr>\n",
       "  </tbody>\n",
       "</table>\n",
       "</div>"
      ],
      "text/plain": [
       "            입구명\n",
       "후문입구     188881\n",
       "정문입구     181532\n",
       "구의문입구    134537\n",
       "CMB(후문)    4473\n",
       "CMB(정문)    1020\n",
       "CMB구의문)     704"
      ]
     },
     "execution_count": 10,
     "metadata": {},
     "output_type": "execute_result"
    }
   ],
   "source": [
    "pd.DataFrame(alldf['입구명'].value_counts())"
   ]
  },
  {
   "cell_type": "code",
   "execution_count": 9,
   "metadata": {},
   "outputs": [
    {
     "data": {
      "text/html": [
       "<div>\n",
       "<style scoped>\n",
       "    .dataframe tbody tr th:only-of-type {\n",
       "        vertical-align: middle;\n",
       "    }\n",
       "\n",
       "    .dataframe tbody tr th {\n",
       "        vertical-align: top;\n",
       "    }\n",
       "\n",
       "    .dataframe thead th {\n",
       "        text-align: right;\n",
       "    }\n",
       "</style>\n",
       "<table border=\"1\" class=\"dataframe\">\n",
       "  <thead>\n",
       "    <tr style=\"text-align: right;\">\n",
       "      <th></th>\n",
       "      <th>출구명</th>\n",
       "    </tr>\n",
       "  </thead>\n",
       "  <tbody>\n",
       "    <tr>\n",
       "      <td>CMB(후문)</td>\n",
       "      <td>180288</td>\n",
       "    </tr>\n",
       "    <tr>\n",
       "      <td>CMB(정문)</td>\n",
       "      <td>166149</td>\n",
       "    </tr>\n",
       "    <tr>\n",
       "      <td>구의문출구</td>\n",
       "      <td>87211</td>\n",
       "    </tr>\n",
       "    <tr>\n",
       "      <td>CMB구의문)</td>\n",
       "      <td>83115</td>\n",
       "    </tr>\n",
       "    <tr>\n",
       "      <td>후문출구</td>\n",
       "      <td>68780</td>\n",
       "    </tr>\n",
       "    <tr>\n",
       "      <td>정문출구2</td>\n",
       "      <td>43402</td>\n",
       "    </tr>\n",
       "    <tr>\n",
       "      <td>정문출구1</td>\n",
       "      <td>38156</td>\n",
       "    </tr>\n",
       "    <tr>\n",
       "      <td>CMC(서버실)</td>\n",
       "      <td>1732</td>\n",
       "    </tr>\n",
       "    <tr>\n",
       "      <td>사전무인#1</td>\n",
       "      <td>130</td>\n",
       "    </tr>\n",
       "    <tr>\n",
       "      <td>사전무인#2</td>\n",
       "      <td>7</td>\n",
       "    </tr>\n",
       "  </tbody>\n",
       "</table>\n",
       "</div>"
      ],
      "text/plain": [
       "             출구명\n",
       "CMB(후문)   180288\n",
       "CMB(정문)   166149\n",
       "구의문출구      87211\n",
       "CMB구의문)    83115\n",
       "후문출구       68780\n",
       "정문출구2      43402\n",
       "정문출구1      38156\n",
       "CMC(서버실)    1732\n",
       "사전무인#1       130\n",
       "사전무인#2         7"
      ]
     },
     "execution_count": 9,
     "metadata": {},
     "output_type": "execute_result"
    }
   ],
   "source": [
    "pd.DataFrame(alldf['출구명'].value_counts())"
   ]
  },
  {
   "cell_type": "code",
   "execution_count": 6,
   "metadata": {},
   "outputs": [
    {
     "data": {
      "text/html": [
       "<div>\n",
       "<style scoped>\n",
       "    .dataframe tbody tr th:only-of-type {\n",
       "        vertical-align: middle;\n",
       "    }\n",
       "\n",
       "    .dataframe tbody tr th {\n",
       "        vertical-align: top;\n",
       "    }\n",
       "\n",
       "    .dataframe thead th {\n",
       "        text-align: right;\n",
       "    }\n",
       "</style>\n",
       "<table border=\"1\" class=\"dataframe\">\n",
       "  <thead>\n",
       "    <tr style=\"text-align: right;\">\n",
       "      <th></th>\n",
       "      <th>고객구분</th>\n",
       "    </tr>\n",
       "  </thead>\n",
       "  <tbody>\n",
       "    <tr>\n",
       "      <td>일반</td>\n",
       "      <td>1089915</td>\n",
       "    </tr>\n",
       "    <tr>\n",
       "      <td>정기권</td>\n",
       "      <td>78201</td>\n",
       "    </tr>\n",
       "    <tr>\n",
       "      <td>할인</td>\n",
       "      <td>12001</td>\n",
       "    </tr>\n",
       "  </tbody>\n",
       "</table>\n",
       "</div>"
      ],
      "text/plain": [
       "        고객구분\n",
       "일반   1089915\n",
       "정기권    78201\n",
       "할인     12001"
      ]
     },
     "execution_count": 6,
     "metadata": {},
     "output_type": "execute_result"
    }
   ],
   "source": [
    "pd.DataFrame(alldf['고객구분'].value_counts())"
   ]
  },
  {
   "cell_type": "code",
   "execution_count": 7,
   "metadata": {},
   "outputs": [
    {
     "data": {
      "text/html": [
       "<div>\n",
       "<style scoped>\n",
       "    .dataframe tbody tr th:only-of-type {\n",
       "        vertical-align: middle;\n",
       "    }\n",
       "\n",
       "    .dataframe tbody tr th {\n",
       "        vertical-align: top;\n",
       "    }\n",
       "\n",
       "    .dataframe thead th {\n",
       "        text-align: right;\n",
       "    }\n",
       "</style>\n",
       "<table border=\"1\" class=\"dataframe\">\n",
       "  <thead>\n",
       "    <tr style=\"text-align: right;\">\n",
       "      <th></th>\n",
       "      <th>차종</th>\n",
       "    </tr>\n",
       "  </thead>\n",
       "  <tbody>\n",
       "    <tr>\n",
       "      <td>소형</td>\n",
       "      <td>1087742</td>\n",
       "    </tr>\n",
       "    <tr>\n",
       "      <td>경차</td>\n",
       "      <td>74419</td>\n",
       "    </tr>\n",
       "    <tr>\n",
       "      <td>대형</td>\n",
       "      <td>15775</td>\n",
       "    </tr>\n",
       "    <tr>\n",
       "      <td>중형</td>\n",
       "      <td>2181</td>\n",
       "    </tr>\n",
       "  </tbody>\n",
       "</table>\n",
       "</div>"
      ],
      "text/plain": [
       "         차종\n",
       "소형  1087742\n",
       "경차    74419\n",
       "대형    15775\n",
       "중형     2181"
      ]
     },
     "execution_count": 7,
     "metadata": {},
     "output_type": "execute_result"
    }
   ],
   "source": [
    "pd.DataFrame(alldf['차종'].value_counts())"
   ]
  },
  {
   "cell_type": "code",
   "execution_count": null,
   "metadata": {},
   "outputs": [],
   "source": []
  }
 ],
 "metadata": {
  "kernelspec": {
   "display_name": "Python 3",
   "language": "python",
   "name": "python3"
  },
  "language_info": {
   "codemirror_mode": {
    "name": "ipython",
    "version": 3
   },
   "file_extension": ".py",
   "mimetype": "text/x-python",
   "name": "python",
   "nbconvert_exporter": "python",
   "pygments_lexer": "ipython3",
   "version": "3.6.8"
  }
 },
 "nbformat": 4,
 "nbformat_minor": 2
}
