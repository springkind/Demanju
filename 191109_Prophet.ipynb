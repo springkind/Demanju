{
 "cells": [
  {
   "cell_type": "code",
   "execution_count": 1,
   "metadata": {},
   "outputs": [],
   "source": [
    "import pandas as pd\n",
    "import numpy as np\n",
    "import seaborn as sns\n",
    "from matplotlib import pyplot as plt\n",
    "import plotly.express as px\n",
    "import plotly.graph_objects as go\n",
    "\n",
    "from statsmodels.tsa.statespace.sarimax import SARIMAX\n",
    "\n",
    "%matplotlib inline"
   ]
  },
  {
   "cell_type": "markdown",
   "metadata": {},
   "source": [
    "# 데이터 불러오기 (count17)\n",
    "2017_운영시간내_실이용객_시각별_주차장_카운트.csv"
   ]
  },
  {
   "cell_type": "code",
   "execution_count": 2,
   "metadata": {},
   "outputs": [],
   "source": [
    "count17 = pd.read_csv('./data/2017_운영시간내_실이용객_시각별_주차장_카운트.csv')"
   ]
  },
  {
   "cell_type": "code",
   "execution_count": 3,
   "metadata": {},
   "outputs": [],
   "source": [
    "count17['datetime'] = pd.to_datetime(count17['datetime'])"
   ]
  },
  {
   "cell_type": "code",
   "execution_count": 4,
   "metadata": {
    "scrolled": false
   },
   "outputs": [
    {
     "data": {
      "text/html": [
       "<div>\n",
       "<style scoped>\n",
       "    .dataframe tbody tr th:only-of-type {\n",
       "        vertical-align: middle;\n",
       "    }\n",
       "\n",
       "    .dataframe tbody tr th {\n",
       "        vertical-align: top;\n",
       "    }\n",
       "\n",
       "    .dataframe thead th {\n",
       "        text-align: right;\n",
       "    }\n",
       "</style>\n",
       "<table border=\"1\" class=\"dataframe\">\n",
       "  <thead>\n",
       "    <tr style=\"text-align: right;\">\n",
       "      <th></th>\n",
       "      <th>datetime</th>\n",
       "      <th>count</th>\n",
       "    </tr>\n",
       "  </thead>\n",
       "  <tbody>\n",
       "    <tr>\n",
       "      <td>0</td>\n",
       "      <td>2017-01-01 00:00:00</td>\n",
       "      <td>0.0</td>\n",
       "    </tr>\n",
       "    <tr>\n",
       "      <td>1</td>\n",
       "      <td>2017-01-01 01:00:00</td>\n",
       "      <td>0.0</td>\n",
       "    </tr>\n",
       "    <tr>\n",
       "      <td>2</td>\n",
       "      <td>2017-01-01 02:00:00</td>\n",
       "      <td>0.0</td>\n",
       "    </tr>\n",
       "    <tr>\n",
       "      <td>3</td>\n",
       "      <td>2017-01-01 03:00:00</td>\n",
       "      <td>0.0</td>\n",
       "    </tr>\n",
       "    <tr>\n",
       "      <td>4</td>\n",
       "      <td>2017-01-01 04:00:00</td>\n",
       "      <td>0.0</td>\n",
       "    </tr>\n",
       "    <tr>\n",
       "      <td>...</td>\n",
       "      <td>...</td>\n",
       "      <td>...</td>\n",
       "    </tr>\n",
       "    <tr>\n",
       "      <td>8756</td>\n",
       "      <td>2017-12-31 20:00:00</td>\n",
       "      <td>224.0</td>\n",
       "    </tr>\n",
       "    <tr>\n",
       "      <td>8757</td>\n",
       "      <td>2017-12-31 21:00:00</td>\n",
       "      <td>216.0</td>\n",
       "    </tr>\n",
       "    <tr>\n",
       "      <td>8758</td>\n",
       "      <td>2017-12-31 22:00:00</td>\n",
       "      <td>25.0</td>\n",
       "    </tr>\n",
       "    <tr>\n",
       "      <td>8759</td>\n",
       "      <td>2017-12-31 23:00:00</td>\n",
       "      <td>0.0</td>\n",
       "    </tr>\n",
       "    <tr>\n",
       "      <td>8760</td>\n",
       "      <td>2018-01-01 00:00:00</td>\n",
       "      <td>0.0</td>\n",
       "    </tr>\n",
       "  </tbody>\n",
       "</table>\n",
       "<p>8761 rows × 2 columns</p>\n",
       "</div>"
      ],
      "text/plain": [
       "                datetime  count\n",
       "0    2017-01-01 00:00:00    0.0\n",
       "1    2017-01-01 01:00:00    0.0\n",
       "2    2017-01-01 02:00:00    0.0\n",
       "3    2017-01-01 03:00:00    0.0\n",
       "4    2017-01-01 04:00:00    0.0\n",
       "...                  ...    ...\n",
       "8756 2017-12-31 20:00:00  224.0\n",
       "8757 2017-12-31 21:00:00  216.0\n",
       "8758 2017-12-31 22:00:00   25.0\n",
       "8759 2017-12-31 23:00:00    0.0\n",
       "8760 2018-01-01 00:00:00    0.0\n",
       "\n",
       "[8761 rows x 2 columns]"
      ]
     },
     "execution_count": 4,
     "metadata": {},
     "output_type": "execute_result"
    }
   ],
   "source": [
    "count17"
   ]
  },
  {
   "cell_type": "markdown",
   "metadata": {},
   "source": [
    "# 데이터 불러오기 (count18)\n",
    "2018_운영시간내_실이용객_시각별_주차장_카운트.csv"
   ]
  },
  {
   "cell_type": "code",
   "execution_count": 5,
   "metadata": {},
   "outputs": [],
   "source": [
    "count18 = pd.read_csv('./data/2018_운영시간내_실이용객_시각별_주차장_카운트.csv')"
   ]
  },
  {
   "cell_type": "code",
   "execution_count": 6,
   "metadata": {},
   "outputs": [],
   "source": [
    "count18['datetime'] = pd.to_datetime(count18['datetime'])"
   ]
  },
  {
   "cell_type": "code",
   "execution_count": 7,
   "metadata": {
    "scrolled": true
   },
   "outputs": [
    {
     "data": {
      "text/html": [
       "<div>\n",
       "<style scoped>\n",
       "    .dataframe tbody tr th:only-of-type {\n",
       "        vertical-align: middle;\n",
       "    }\n",
       "\n",
       "    .dataframe tbody tr th {\n",
       "        vertical-align: top;\n",
       "    }\n",
       "\n",
       "    .dataframe thead th {\n",
       "        text-align: right;\n",
       "    }\n",
       "</style>\n",
       "<table border=\"1\" class=\"dataframe\">\n",
       "  <thead>\n",
       "    <tr style=\"text-align: right;\">\n",
       "      <th></th>\n",
       "      <th>datetime</th>\n",
       "      <th>count</th>\n",
       "    </tr>\n",
       "  </thead>\n",
       "  <tbody>\n",
       "    <tr>\n",
       "      <td>0</td>\n",
       "      <td>2018-01-01 00:00:00</td>\n",
       "      <td>0.0</td>\n",
       "    </tr>\n",
       "    <tr>\n",
       "      <td>1</td>\n",
       "      <td>2018-01-01 01:00:00</td>\n",
       "      <td>0.0</td>\n",
       "    </tr>\n",
       "    <tr>\n",
       "      <td>2</td>\n",
       "      <td>2018-01-01 02:00:00</td>\n",
       "      <td>0.0</td>\n",
       "    </tr>\n",
       "    <tr>\n",
       "      <td>3</td>\n",
       "      <td>2018-01-01 03:00:00</td>\n",
       "      <td>0.0</td>\n",
       "    </tr>\n",
       "    <tr>\n",
       "      <td>4</td>\n",
       "      <td>2018-01-01 04:00:00</td>\n",
       "      <td>0.0</td>\n",
       "    </tr>\n",
       "    <tr>\n",
       "      <td>...</td>\n",
       "      <td>...</td>\n",
       "      <td>...</td>\n",
       "    </tr>\n",
       "    <tr>\n",
       "      <td>740</td>\n",
       "      <td>2018-01-31 20:00:00</td>\n",
       "      <td>60.0</td>\n",
       "    </tr>\n",
       "    <tr>\n",
       "      <td>741</td>\n",
       "      <td>2018-01-31 21:00:00</td>\n",
       "      <td>38.0</td>\n",
       "    </tr>\n",
       "    <tr>\n",
       "      <td>742</td>\n",
       "      <td>2018-01-31 22:00:00</td>\n",
       "      <td>7.0</td>\n",
       "    </tr>\n",
       "    <tr>\n",
       "      <td>743</td>\n",
       "      <td>2018-01-31 23:00:00</td>\n",
       "      <td>0.0</td>\n",
       "    </tr>\n",
       "    <tr>\n",
       "      <td>744</td>\n",
       "      <td>2018-02-01 00:00:00</td>\n",
       "      <td>0.0</td>\n",
       "    </tr>\n",
       "  </tbody>\n",
       "</table>\n",
       "<p>745 rows × 2 columns</p>\n",
       "</div>"
      ],
      "text/plain": [
       "               datetime  count\n",
       "0   2018-01-01 00:00:00    0.0\n",
       "1   2018-01-01 01:00:00    0.0\n",
       "2   2018-01-01 02:00:00    0.0\n",
       "3   2018-01-01 03:00:00    0.0\n",
       "4   2018-01-01 04:00:00    0.0\n",
       "..                  ...    ...\n",
       "740 2018-01-31 20:00:00   60.0\n",
       "741 2018-01-31 21:00:00   38.0\n",
       "742 2018-01-31 22:00:00    7.0\n",
       "743 2018-01-31 23:00:00    0.0\n",
       "744 2018-02-01 00:00:00    0.0\n",
       "\n",
       "[745 rows x 2 columns]"
      ]
     },
     "execution_count": 7,
     "metadata": {},
     "output_type": "execute_result"
    }
   ],
   "source": [
    "count18"
   ]
  },
  {
   "cell_type": "markdown",
   "metadata": {},
   "source": [
    "## Facebook Prophet"
   ]
  },
  {
   "cell_type": "code",
   "execution_count": 8,
   "metadata": {},
   "outputs": [],
   "source": [
    "from fbprophet import Prophet"
   ]
  },
  {
   "cell_type": "code",
   "execution_count": 9,
   "metadata": {},
   "outputs": [],
   "source": [
    "df = count17.copy()"
   ]
  },
  {
   "cell_type": "code",
   "execution_count": 10,
   "metadata": {},
   "outputs": [],
   "source": [
    "df.columns = ['ds', 'y']"
   ]
  },
  {
   "cell_type": "code",
   "execution_count": 11,
   "metadata": {},
   "outputs": [
    {
     "name": "stderr",
     "output_type": "stream",
     "text": [
      "INFO:fbprophet:Disabling yearly seasonality. Run prophet with yearly_seasonality=True to override this.\n"
     ]
    },
    {
     "data": {
      "text/plain": [
       "<fbprophet.forecaster.Prophet at 0x7f8f8c872048>"
      ]
     },
     "execution_count": 11,
     "metadata": {},
     "output_type": "execute_result"
    }
   ],
   "source": [
    "model =Prophet()\n",
    "model.fit(df)"
   ]
  },
  {
   "cell_type": "code",
   "execution_count": 12,
   "metadata": {},
   "outputs": [],
   "source": [
    "future = pd.DataFrame({'ds': count18['datetime'].values})"
   ]
  },
  {
   "cell_type": "code",
   "execution_count": 13,
   "metadata": {},
   "outputs": [],
   "source": [
    "prophet_predict = model.predict(future)"
   ]
  },
  {
   "cell_type": "code",
   "execution_count": 14,
   "metadata": {},
   "outputs": [
    {
     "data": {
      "text/html": [
       "<div>\n",
       "<style scoped>\n",
       "    .dataframe tbody tr th:only-of-type {\n",
       "        vertical-align: middle;\n",
       "    }\n",
       "\n",
       "    .dataframe tbody tr th {\n",
       "        vertical-align: top;\n",
       "    }\n",
       "\n",
       "    .dataframe thead th {\n",
       "        text-align: right;\n",
       "    }\n",
       "</style>\n",
       "<table border=\"1\" class=\"dataframe\">\n",
       "  <thead>\n",
       "    <tr style=\"text-align: right;\">\n",
       "      <th></th>\n",
       "      <th>ds</th>\n",
       "      <th>trend</th>\n",
       "      <th>yhat_lower</th>\n",
       "      <th>yhat_upper</th>\n",
       "      <th>trend_lower</th>\n",
       "      <th>trend_upper</th>\n",
       "      <th>additive_terms</th>\n",
       "      <th>additive_terms_lower</th>\n",
       "      <th>additive_terms_upper</th>\n",
       "      <th>daily</th>\n",
       "      <th>daily_lower</th>\n",
       "      <th>daily_upper</th>\n",
       "      <th>weekly</th>\n",
       "      <th>weekly_lower</th>\n",
       "      <th>weekly_upper</th>\n",
       "      <th>multiplicative_terms</th>\n",
       "      <th>multiplicative_terms_lower</th>\n",
       "      <th>multiplicative_terms_upper</th>\n",
       "      <th>yhat</th>\n",
       "    </tr>\n",
       "  </thead>\n",
       "  <tbody>\n",
       "    <tr>\n",
       "      <td>0</td>\n",
       "      <td>2018-01-01 00:00:00</td>\n",
       "      <td>73.366147</td>\n",
       "      <td>-315.099933</td>\n",
       "      <td>109.903875</td>\n",
       "      <td>73.366147</td>\n",
       "      <td>73.366147</td>\n",
       "      <td>-178.832057</td>\n",
       "      <td>-178.832057</td>\n",
       "      <td>-178.832057</td>\n",
       "      <td>-196.470621</td>\n",
       "      <td>-196.470621</td>\n",
       "      <td>-196.470621</td>\n",
       "      <td>17.638564</td>\n",
       "      <td>17.638564</td>\n",
       "      <td>17.638564</td>\n",
       "      <td>0.0</td>\n",
       "      <td>0.0</td>\n",
       "      <td>0.0</td>\n",
       "      <td>-105.465910</td>\n",
       "    </tr>\n",
       "    <tr>\n",
       "      <td>1</td>\n",
       "      <td>2018-01-01 01:00:00</td>\n",
       "      <td>73.274610</td>\n",
       "      <td>-336.493166</td>\n",
       "      <td>75.246097</td>\n",
       "      <td>73.274610</td>\n",
       "      <td>73.274610</td>\n",
       "      <td>-201.423007</td>\n",
       "      <td>-201.423007</td>\n",
       "      <td>-201.423007</td>\n",
       "      <td>-209.796727</td>\n",
       "      <td>-209.796727</td>\n",
       "      <td>-209.796727</td>\n",
       "      <td>8.373719</td>\n",
       "      <td>8.373719</td>\n",
       "      <td>8.373719</td>\n",
       "      <td>0.0</td>\n",
       "      <td>0.0</td>\n",
       "      <td>0.0</td>\n",
       "      <td>-128.148398</td>\n",
       "    </tr>\n",
       "    <tr>\n",
       "      <td>2</td>\n",
       "      <td>2018-01-01 02:00:00</td>\n",
       "      <td>73.183073</td>\n",
       "      <td>-351.985943</td>\n",
       "      <td>64.669748</td>\n",
       "      <td>73.183073</td>\n",
       "      <td>73.183073</td>\n",
       "      <td>-208.051319</td>\n",
       "      <td>-208.051319</td>\n",
       "      <td>-208.051319</td>\n",
       "      <td>-207.444688</td>\n",
       "      <td>-207.444688</td>\n",
       "      <td>-207.444688</td>\n",
       "      <td>-0.606630</td>\n",
       "      <td>-0.606630</td>\n",
       "      <td>-0.606630</td>\n",
       "      <td>0.0</td>\n",
       "      <td>0.0</td>\n",
       "      <td>0.0</td>\n",
       "      <td>-134.868246</td>\n",
       "    </tr>\n",
       "    <tr>\n",
       "      <td>3</td>\n",
       "      <td>2018-01-01 03:00:00</td>\n",
       "      <td>73.091536</td>\n",
       "      <td>-347.906714</td>\n",
       "      <td>78.094508</td>\n",
       "      <td>73.091536</td>\n",
       "      <td>73.091536</td>\n",
       "      <td>-201.391152</td>\n",
       "      <td>-201.391152</td>\n",
       "      <td>-201.391152</td>\n",
       "      <td>-192.140632</td>\n",
       "      <td>-192.140632</td>\n",
       "      <td>-192.140632</td>\n",
       "      <td>-9.250520</td>\n",
       "      <td>-9.250520</td>\n",
       "      <td>-9.250520</td>\n",
       "      <td>0.0</td>\n",
       "      <td>0.0</td>\n",
       "      <td>0.0</td>\n",
       "      <td>-128.299617</td>\n",
       "    </tr>\n",
       "    <tr>\n",
       "      <td>4</td>\n",
       "      <td>2018-01-01 04:00:00</td>\n",
       "      <td>72.999999</td>\n",
       "      <td>-319.654909</td>\n",
       "      <td>76.565598</td>\n",
       "      <td>72.999999</td>\n",
       "      <td>72.999999</td>\n",
       "      <td>-199.014544</td>\n",
       "      <td>-199.014544</td>\n",
       "      <td>-199.014544</td>\n",
       "      <td>-181.504468</td>\n",
       "      <td>-181.504468</td>\n",
       "      <td>-181.504468</td>\n",
       "      <td>-17.510077</td>\n",
       "      <td>-17.510077</td>\n",
       "      <td>-17.510077</td>\n",
       "      <td>0.0</td>\n",
       "      <td>0.0</td>\n",
       "      <td>0.0</td>\n",
       "      <td>-126.014546</td>\n",
       "    </tr>\n",
       "  </tbody>\n",
       "</table>\n",
       "</div>"
      ],
      "text/plain": [
       "                   ds      trend  yhat_lower  yhat_upper  trend_lower  \\\n",
       "0 2018-01-01 00:00:00  73.366147 -315.099933  109.903875    73.366147   \n",
       "1 2018-01-01 01:00:00  73.274610 -336.493166   75.246097    73.274610   \n",
       "2 2018-01-01 02:00:00  73.183073 -351.985943   64.669748    73.183073   \n",
       "3 2018-01-01 03:00:00  73.091536 -347.906714   78.094508    73.091536   \n",
       "4 2018-01-01 04:00:00  72.999999 -319.654909   76.565598    72.999999   \n",
       "\n",
       "   trend_upper  additive_terms  additive_terms_lower  additive_terms_upper  \\\n",
       "0    73.366147     -178.832057           -178.832057           -178.832057   \n",
       "1    73.274610     -201.423007           -201.423007           -201.423007   \n",
       "2    73.183073     -208.051319           -208.051319           -208.051319   \n",
       "3    73.091536     -201.391152           -201.391152           -201.391152   \n",
       "4    72.999999     -199.014544           -199.014544           -199.014544   \n",
       "\n",
       "        daily  daily_lower  daily_upper     weekly  weekly_lower  \\\n",
       "0 -196.470621  -196.470621  -196.470621  17.638564     17.638564   \n",
       "1 -209.796727  -209.796727  -209.796727   8.373719      8.373719   \n",
       "2 -207.444688  -207.444688  -207.444688  -0.606630     -0.606630   \n",
       "3 -192.140632  -192.140632  -192.140632  -9.250520     -9.250520   \n",
       "4 -181.504468  -181.504468  -181.504468 -17.510077    -17.510077   \n",
       "\n",
       "   weekly_upper  multiplicative_terms  multiplicative_terms_lower  \\\n",
       "0     17.638564                   0.0                         0.0   \n",
       "1      8.373719                   0.0                         0.0   \n",
       "2     -0.606630                   0.0                         0.0   \n",
       "3     -9.250520                   0.0                         0.0   \n",
       "4    -17.510077                   0.0                         0.0   \n",
       "\n",
       "   multiplicative_terms_upper        yhat  \n",
       "0                         0.0 -105.465910  \n",
       "1                         0.0 -128.148398  \n",
       "2                         0.0 -134.868246  \n",
       "3                         0.0 -128.299617  \n",
       "4                         0.0 -126.014546  "
      ]
     },
     "execution_count": 14,
     "metadata": {},
     "output_type": "execute_result"
    }
   ],
   "source": [
    "prophet_predict.head()"
   ]
  },
  {
   "cell_type": "code",
   "execution_count": 15,
   "metadata": {},
   "outputs": [
    {
     "data": {
      "text/plain": [
       "(array([736695., 736699., 736703., 736707., 736711., 736715., 736719.,\n",
       "        736723., 736726.]), <a list of 9 Text xticklabel objects>)"
      ]
     },
     "execution_count": 15,
     "metadata": {},
     "output_type": "execute_result"
    },
    {
     "data": {
      "image/png": "[encoded data removed]",
      "text/plain": [
       "<Figure size 720x432 with 1 Axes>"
      ]
     },
     "metadata": {
      "needs_background": "light"
     },
     "output_type": "display_data"
    }
   ],
   "source": [
    "fig, ax = plt.subplots()\n",
    "fig.set_size_inches(10, 6)\n",
    "\n",
    "sns.lineplot('ds', 'trend', data=prophet_predict, ax=ax)\n",
    "plt.xticks(rotation=30)"
   ]
  },
  {
   "cell_type": "code",
   "execution_count": 16,
   "metadata": {
    "scrolled": true
   },
   "outputs": [
    {
     "data": {
      "text/plain": [
       "(array([736695., 736699., 736703., 736707., 736711., 736715., 736719.,\n",
       "        736723., 736726.]), <a list of 9 Text xticklabel objects>)"
      ]
     },
     "execution_count": 16,
     "metadata": {},
     "output_type": "execute_result"
    },
    {
     "data": {
      "image/png": "[encoded data removed]",
      "text/plain": [
       "<Figure size 720x432 with 1 Axes>"
      ]
     },
     "metadata": {
      "needs_background": "light"
     },
     "output_type": "display_data"
    }
   ],
   "source": [
    "fig, ax = plt.subplots()\n",
    "fig.set_size_inches(10, 6)\n",
    "\n",
    "sns.lineplot('ds', 'yhat', data=prophet_predict, ax=ax)\n",
    "plt.xticks(rotation=30)"
   ]
  },
  {
   "cell_type": "code",
   "execution_count": null,
   "metadata": {},
   "outputs": [],
   "source": []
  }
 ],
 "metadata": {
  "kernelspec": {
   "display_name": "Python 3",
   "language": "python",
   "name": "python3"
  },
  "language_info": {
   "codemirror_mode": {
    "name": "ipython",
    "version": 3
   },
   "file_extension": ".py",
   "mimetype": "text/x-python",
   "name": "python",
   "nbconvert_exporter": "python",
   "pygments_lexer": "ipython3",
   "version": "3.6.8"
  }
 },
 "nbformat": 4,
 "nbformat_minor": 2
}
